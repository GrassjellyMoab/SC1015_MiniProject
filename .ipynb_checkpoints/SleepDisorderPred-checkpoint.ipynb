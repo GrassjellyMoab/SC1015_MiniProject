{
 "cells": [
  {
   "cell_type": "markdown",
   "metadata": {},
   "source": [
    "### SLEEP DATA ANALYSIS"
   ]
  },
  {
   "cell_type": "code",
   "execution_count": 11,
   "metadata": {},
   "outputs": [],
   "source": [
    "# Basic Libraries\n",
    "import numpy as np\n",
    "import pandas as pd\n",
    "import seaborn as sb\n",
    "import matplotlib.pyplot as plt # we only need pyplot\n",
    "from sklearn.preprocessing import LabelEncoder\n",
    "sb.set() # set the default Seaborn style for graphics"
   ]
  },
  {
   "cell_type": "markdown",
   "metadata": {},
   "source": [
    "## Importing the sleep data set"
   ]
  },
  {
   "cell_type": "code",
   "execution_count": 12,
   "metadata": {},
   "outputs": [
    {
     "data": {
      "text/html": [
       "<div>\n",
       "<style scoped>\n",
       "    .dataframe tbody tr th:only-of-type {\n",
       "        vertical-align: middle;\n",
       "    }\n",
       "\n",
       "    .dataframe tbody tr th {\n",
       "        vertical-align: top;\n",
       "    }\n",
       "\n",
       "    .dataframe thead th {\n",
       "        text-align: right;\n",
       "    }\n",
       "</style>\n",
       "<table border=\"1\" class=\"dataframe\">\n",
       "  <thead>\n",
       "    <tr style=\"text-align: right;\">\n",
       "      <th></th>\n",
       "      <th>Person ID</th>\n",
       "      <th>Gender</th>\n",
       "      <th>Age</th>\n",
       "      <th>Occupation</th>\n",
       "      <th>Sleep Duration</th>\n",
       "      <th>Quality of Sleep</th>\n",
       "      <th>Physical Activity Level</th>\n",
       "      <th>Stress Level</th>\n",
       "      <th>BMI Category</th>\n",
       "      <th>Blood Pressure</th>\n",
       "      <th>Heart Rate</th>\n",
       "      <th>Daily Steps</th>\n",
       "      <th>Sleep Disorder</th>\n",
       "    </tr>\n",
       "  </thead>\n",
       "  <tbody>\n",
       "    <tr>\n",
       "      <th>0</th>\n",
       "      <td>1</td>\n",
       "      <td>Male</td>\n",
       "      <td>27</td>\n",
       "      <td>Software Engineer</td>\n",
       "      <td>6.1</td>\n",
       "      <td>6</td>\n",
       "      <td>42</td>\n",
       "      <td>6</td>\n",
       "      <td>Overweight</td>\n",
       "      <td>126/83</td>\n",
       "      <td>77</td>\n",
       "      <td>4200</td>\n",
       "      <td>NaN</td>\n",
       "    </tr>\n",
       "    <tr>\n",
       "      <th>1</th>\n",
       "      <td>2</td>\n",
       "      <td>Male</td>\n",
       "      <td>28</td>\n",
       "      <td>Doctor</td>\n",
       "      <td>6.2</td>\n",
       "      <td>6</td>\n",
       "      <td>60</td>\n",
       "      <td>8</td>\n",
       "      <td>Normal</td>\n",
       "      <td>125/80</td>\n",
       "      <td>75</td>\n",
       "      <td>10000</td>\n",
       "      <td>NaN</td>\n",
       "    </tr>\n",
       "    <tr>\n",
       "      <th>2</th>\n",
       "      <td>3</td>\n",
       "      <td>Male</td>\n",
       "      <td>28</td>\n",
       "      <td>Doctor</td>\n",
       "      <td>6.2</td>\n",
       "      <td>6</td>\n",
       "      <td>60</td>\n",
       "      <td>8</td>\n",
       "      <td>Normal</td>\n",
       "      <td>125/80</td>\n",
       "      <td>75</td>\n",
       "      <td>10000</td>\n",
       "      <td>NaN</td>\n",
       "    </tr>\n",
       "    <tr>\n",
       "      <th>3</th>\n",
       "      <td>4</td>\n",
       "      <td>Male</td>\n",
       "      <td>28</td>\n",
       "      <td>Sales Representative</td>\n",
       "      <td>5.9</td>\n",
       "      <td>4</td>\n",
       "      <td>30</td>\n",
       "      <td>8</td>\n",
       "      <td>Obese</td>\n",
       "      <td>140/90</td>\n",
       "      <td>85</td>\n",
       "      <td>3000</td>\n",
       "      <td>Sleep Apnea</td>\n",
       "    </tr>\n",
       "    <tr>\n",
       "      <th>4</th>\n",
       "      <td>5</td>\n",
       "      <td>Male</td>\n",
       "      <td>28</td>\n",
       "      <td>Sales Representative</td>\n",
       "      <td>5.9</td>\n",
       "      <td>4</td>\n",
       "      <td>30</td>\n",
       "      <td>8</td>\n",
       "      <td>Obese</td>\n",
       "      <td>140/90</td>\n",
       "      <td>85</td>\n",
       "      <td>3000</td>\n",
       "      <td>Sleep Apnea</td>\n",
       "    </tr>\n",
       "  </tbody>\n",
       "</table>\n",
       "</div>"
      ],
      "text/plain": [
       "   Person ID Gender  Age            Occupation  Sleep Duration  \\\n",
       "0          1   Male   27     Software Engineer             6.1   \n",
       "1          2   Male   28                Doctor             6.2   \n",
       "2          3   Male   28                Doctor             6.2   \n",
       "3          4   Male   28  Sales Representative             5.9   \n",
       "4          5   Male   28  Sales Representative             5.9   \n",
       "\n",
       "   Quality of Sleep  Physical Activity Level  Stress Level BMI Category  \\\n",
       "0                 6                       42             6   Overweight   \n",
       "1                 6                       60             8       Normal   \n",
       "2                 6                       60             8       Normal   \n",
       "3                 4                       30             8        Obese   \n",
       "4                 4                       30             8        Obese   \n",
       "\n",
       "  Blood Pressure  Heart Rate  Daily Steps Sleep Disorder  \n",
       "0         126/83          77         4200            NaN  \n",
       "1         125/80          75        10000            NaN  \n",
       "2         125/80          75        10000            NaN  \n",
       "3         140/90          85         3000    Sleep Apnea  \n",
       "4         140/90          85         3000    Sleep Apnea  "
      ]
     },
     "execution_count": 12,
     "metadata": {},
     "output_type": "execute_result"
    }
   ],
   "source": [
    "sleepData = pd.read_csv(\"sleepData.csv\")\n",
    "sleepData.head()"
   ]
  },
  {
   "cell_type": "markdown",
   "metadata": {},
   "source": [
    "## Cleaning & Encoding columns in DataSet"
   ]
  },
  {
   "cell_type": "code",
   "execution_count": 13,
   "metadata": {},
   "outputs": [],
   "source": [
    "# Replace 'Normal Weight' with 'Normal' in the 'BMI Category' column\n",
    "sleepData[\"BMI Category\"] = sleepData[\"BMI Category\"].replace(\"Normal Weight\", \"Normal\")\n",
    "# Extract the value before '/' symbol\n",
    "sleepData['Blood Pressure'] = sleepData['Blood Pressure'].str.split('/').str[0]\n",
    "\n",
    "\n",
    "# initiate Label Encoder\n",
    "label_encoder = LabelEncoder()\n",
    "sleepData[\"BMI Category\"] = label_encoder.fit_transform(sleepData[\"BMI Category\"])\n",
    "# Normal: 0, Normal Weight: 1, Obese: 2, Overweight: 3\n",
    "\n",
    "# Replace NaN with 0 and map 'Sleep Apnea' and 'Insomnia' to 1\n",
    "sleepData[\"Sleep Disorder\"] = sleepData[\"Sleep Disorder\"].fillna(0)\n",
    "sleepData[\"Sleep Disorder\"] = sleepData[\"Sleep Disorder\"].replace(['Sleep Apnea', 'Insomnia'], 1)\n",
    "# Convert column to integer type\n",
    "sleepData[\"Sleep Disorde\"] = sleepData[\"Sleep Disorder\"].astype(int)\n",
    "\n"
   ]
  },
  {
   "cell_type": "code",
   "execution_count": 14,
   "metadata": {},
   "outputs": [],
   "source": [
    "sleepDuration = pd.DataFrame(sleepData[\"Sleep Duration\"])\n",
    "sleepQuality = pd.DataFrame(sleepData[\"Quality of Sleep\"])\n",
    "physicalActivity = pd.DataFrame(sleepData[\"Physical Activity Level\"])\n",
    "stressLevel = pd.DataFrame(sleepData[\"Stress Level\"])\n",
    "bmiCategory = pd.DataFrame(sleepData[\"BMI Category\"])\n",
    "bloodPressure = pd.DataFrame(sleepData[\"Blood Pressure\"])\n",
    "heartRate = pd.DataFrame(sleepData[\"Heart Rate\"])\n",
    "dailySteps = pd.DataFrame(sleepData[\"Daily Steps\"])\n",
    "sleepDisorder = pd.DataFrame(sleepData[\"Sleep Disorder\"])"
   ]
  },
  {
   "cell_type": "markdown",
   "metadata": {},
   "source": [
    "## Split dataset into training and test sets"
   ]
  },
  {
   "cell_type": "code",
   "execution_count": 15,
   "metadata": {},
   "outputs": [],
   "source": [
    "from sklearn.model_selection import train_test_split, cross_val_score\n",
    "\n",
    "# Combine variables into a single DataFrame\n",
    "X = pd.concat([sleepDuration, sleepQuality, physicalActivity, stressLevel, bmiCategory, \n",
    "               bloodPressure, heartRate, dailySteps], axis=1)\n",
    "y = sleepDisorder.values.ravel()  # Flatten sleepDisorder into a 1D array\n",
    "\n",
    "# Split the data into training and testing sets\n",
    "X_train, X_test, y_train, y_test = train_test_split(X, y, test_size=0.2, random_state=42)\n"
   ]
  },
  {
   "cell_type": "markdown",
   "metadata": {},
   "source": [
    "## Scale predictor variables"
   ]
  },
  {
   "cell_type": "code",
   "execution_count": 16,
   "metadata": {},
   "outputs": [],
   "source": [
    "from sklearn.preprocessing import StandardScaler\n",
    "\n",
    "scaler = StandardScaler()\n",
    "X_train_scaled = scaler.fit_transform(X_train)\n",
    "X_test_scaled = scaler.transform(X_test)"
   ]
  },
  {
   "cell_type": "markdown",
   "metadata": {},
   "source": [
    "## Checking which features are more important\n",
    "Feature Importance: If you're using tree-based models like Random Forest, you can use the built-in feature importance attribute to identify the most important features. Features with higher feature importance scores are considered more relevant for predicting the target variable."
   ]
  },
  {
   "cell_type": "code",
   "execution_count": 18,
   "metadata": {},
   "outputs": [
    {
     "name": "stdout",
     "output_type": "stream",
     "text": [
      "                   Feature  Importance\n",
      "5           Blood Pressure    0.321465\n",
      "4             BMI Category    0.296733\n",
      "0           Sleep Duration    0.162998\n",
      "3             Stress Level    0.053790\n",
      "6               Heart Rate    0.052823\n",
      "7              Daily Steps    0.040747\n",
      "1         Quality of Sleep    0.036363\n",
      "2  Physical Activity Level    0.035082\n"
     ]
    },
    {
     "data": {
      "image/png": "[encoded data removed]",
      "text/plain": [
       "<Figure size 1000x600 with 1 Axes>"
      ]
     },
     "metadata": {},
     "output_type": "display_data"
    }
   ],
   "source": [
    "from sklearn.ensemble import RandomForestClassifier\n",
    "from sklearn.metrics import accuracy_score, classification_report\n",
    "\n",
    "# Initialize model\n",
    "random_forest = RandomForestClassifier()\n",
    "\n",
    "# Train the model\n",
    "random_forest.fit(X_train_scaled, y_train)\n",
    "\n",
    "# Get feature importances\n",
    "feature_importances = random_forest.feature_importances_\n",
    "\n",
    "# Create a DataFrame of feature importances\n",
    "feature_importance_df = pd.DataFrame({'Feature': X.columns, 'Importance': feature_importances})\n",
    "\n",
    "# Sort features by importance (descending order)\n",
    "feature_importance_df = feature_importance_df.sort_values(by='Importance', ascending=False)\n",
    "print(feature_importance_df)\n",
    "\n",
    "# Get feature names and importances from the DataFrame \n",
    "features = feature_importance_df['Feature'].to_numpy()\n",
    "importances = feature_importance_df['Importance'].to_numpy()\n",
    "\n",
    "\n",
    "# Create a bar chart with this data\n",
    "plt.figure(figsize=(10, 6))  # Adjust the figure size as desired\n",
    "plt.barh(features, importances, color='skyblue')  # Bar plot with horizontal bars\n",
    "plt.xlabel('Feature Importance')\n",
    "plt.ylabel('Feature')\n",
    "plt.title('Feature Importance Ranking (Random Forest)')\n",
    "plt.gca().invert_yaxis()  # Invert the y-axis to display the most important feature at the top\n",
    "\n",
    "# Display grid lines and labels\n",
    "plt.grid(axis='x', linestyle='--', alpha=0.6)\n",
    "plt.xticks(rotation=45)  # Rotate x-axis labels for better readability\n",
    "\n",
    "# Show the plot\n",
    "plt.tight_layout()\n",
    "plt.show()"
   ]
  },
  {
   "cell_type": "markdown",
   "metadata": {},
   "source": [
    "## From analysing the feature importance, it can be shown that Blood Pressure, BMI Category and Sleep Duration are the variables that affect the likelihood of having sleeping disorder the most."
   ]
  },
  {
   "cell_type": "code",
   "execution_count": 19,
   "metadata": {},
   "outputs": [
    {
     "name": "stdout",
     "output_type": "stream",
     "text": [
      "['Blood Pressure', 'BMI Category', 'Sleep Duration']\n",
      "Random Forest Cross-Validation Scores: [0.91666667 0.86666667 0.98333333 0.91525424 0.94915254]\n",
      "Random Forest Selected Cross-Validation Scores: [0.91666667 0.86666667 0.98333333 0.94915254 0.94915254]\n",
      "Using all variables\n",
      "Accuracy: 0.96\n",
      "Classification Report:\n",
      "               precision    recall  f1-score   support\n",
      "\n",
      "           0       0.95      0.98      0.96        41\n",
      "           1       0.97      0.94      0.96        34\n",
      "\n",
      "    accuracy                           0.96        75\n",
      "   macro avg       0.96      0.96      0.96        75\n",
      "weighted avg       0.96      0.96      0.96        75\n",
      "\n",
      "Optimal Model\n",
      "Accuracy: 0.96\n",
      "Classification Report:\n",
      "               precision    recall  f1-score   support\n",
      "\n",
      "           0       0.95      0.98      0.96        41\n",
      "           1       0.97      0.94      0.96        34\n",
      "\n",
      "    accuracy                           0.96        75\n",
      "   macro avg       0.96      0.96      0.96        75\n",
      "weighted avg       0.96      0.96      0.96        75\n",
      "\n"
     ]
    }
   ],
   "source": [
    "# Select the top 3 features (e.g., top 3)\n",
    "top_3_features = feature_importance_df.head(3)['Feature'].tolist()\n",
    "\n",
    "# Filter X_train and X_test to include only the top N features\n",
    "X_train_selected = X_train[top_3_features]\n",
    "X_test_selected = X_test[top_3_features]\n",
    "\n",
    "# Train the model with selected features\n",
    "random_forest_selected = RandomForestClassifier()\n",
    "random_forest_selected.fit(X_train_selected, y_train)\n",
    "\n",
    "# Evaluate the models using cross-validation\n",
    "random_forest_scores = cross_val_score(random_forest, X_train_scaled, y_train, cv=5)\n",
    "random_forest_selected_scores = cross_val_score(random_forest_selected, X_train_selected, y_train, cv=5)\n",
    "\n",
    "# Compare model performance\n",
    "print(\"Random Forest Cross-Validation Scores:\", random_forest_scores)\n",
    "print(\"Random Forest Optimal(Top3 Features only) Cross-Validation Scores:\", random_forest_selected_scores)\n",
    "\n",
    "# Make predictions on the testing data using the best model\n",
    "y_pred = random_forest.predict(X_test_scaled)\n",
    "y_pred_selected = random_forest_selected.predict(X_test_selected)\n",
    "\n",
    "# Evaluate the models on the test data\n",
    "accuracy = accuracy_score(y_test, y_pred)\n",
    "report = classification_report(y_test, y_pred)\n",
    "accuracy_selected = accuracy_score(y_test, y_pred_selected)\n",
    "report_selected = classification_report(y_test, y_pred_selected)\n",
    "\n",
    "print(\"\\nUsing all variables\")\n",
    "print(\"Accuracy:\", accuracy)\n",
    "print(\"Classification Report:\\n\", report)\n",
    "print(\"Optimal Model\")\n",
    "print(\"Accuracy:\", accuracy_selected)\n",
    "print(\"Classification Report:\\n\", report_selected)\n"
   ]
  },
  {
   "cell_type": "code",
   "execution_count": null,
   "metadata": {},
   "outputs": [],
   "source": []
  },
  {
   "cell_type": "code",
   "execution_count": null,
   "metadata": {},
   "outputs": [],
   "source": []
  }
 ],
 "metadata": {
  "kernelspec": {
   "display_name": "Python 3 (ipykernel)",
   "language": "python",
   "name": "python3"
  },
  "language_info": {
   "codemirror_mode": {
    "name": "ipython",
    "version": 3
   },
   "file_extension": ".py",
   "mimetype": "text/x-python",
   "name": "python",
   "nbconvert_exporter": "python",
   "pygments_lexer": "ipython3",
   "version": "3.11.4"
  }
 },
 "nbformat": 4,
 "nbformat_minor": 4
}
