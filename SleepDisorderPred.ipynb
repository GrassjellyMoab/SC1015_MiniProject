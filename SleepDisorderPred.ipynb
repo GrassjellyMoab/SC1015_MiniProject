{
 "cells": [
  {
   "cell_type": "markdown",
   "metadata": {},
   "source": [
    "# SLEEP DATA ANALYSIS"
   ]
  },
  {
   "cell_type": "code",
   "execution_count": 67,
   "metadata": {},
   "outputs": [],
   "source": [
    "# Basic Libraries\n",
    "import numpy as np\n",
    "import pandas as pd\n",
    "import seaborn as sb\n",
    "import matplotlib.pyplot as plt # we only need pyplot\n",
    "from sklearn.preprocessing import LabelEncoder\n",
    "sb.set() # set the default Seaborn style for graphics"
   ]
  },
  {
   "cell_type": "markdown",
   "metadata": {},
   "source": [
    "## Importing the sleep data set"
   ]
  },
  {
   "cell_type": "code",
   "execution_count": 68,
   "metadata": {},
   "outputs": [],
   "source": [
    "sleepData = pd.read_csv(\"sleepData.csv\")"
   ]
  },
  {
   "cell_type": "markdown",
   "metadata": {},
   "source": [
    "## Cleaning & Encoding columns in DataSet"
   ]
  },
  {
   "cell_type": "code",
   "execution_count": 69,
   "metadata": {},
   "outputs": [
    {
     "data": {
      "text/html": [
       "<div>\n",
       "<style scoped>\n",
       "    .dataframe tbody tr th:only-of-type {\n",
       "        vertical-align: middle;\n",
       "    }\n",
       "\n",
       "    .dataframe tbody tr th {\n",
       "        vertical-align: top;\n",
       "    }\n",
       "\n",
       "    .dataframe thead th {\n",
       "        text-align: right;\n",
       "    }\n",
       "</style>\n",
       "<table border=\"1\" class=\"dataframe\">\n",
       "  <thead>\n",
       "    <tr style=\"text-align: right;\">\n",
       "      <th></th>\n",
       "      <th>Person ID</th>\n",
       "      <th>Gender</th>\n",
       "      <th>Age</th>\n",
       "      <th>Occupation</th>\n",
       "      <th>Sleep Duration</th>\n",
       "      <th>Quality of Sleep</th>\n",
       "      <th>Physical Activity Level</th>\n",
       "      <th>Stress Level</th>\n",
       "      <th>BMI Category</th>\n",
       "      <th>Blood Pressure</th>\n",
       "      <th>Heart Rate</th>\n",
       "      <th>Daily Steps</th>\n",
       "      <th>Sleep Disorder</th>\n",
       "    </tr>\n",
       "  </thead>\n",
       "  <tbody>\n",
       "    <tr>\n",
       "      <th>0</th>\n",
       "      <td>1</td>\n",
       "      <td>Male</td>\n",
       "      <td>27</td>\n",
       "      <td>Software Engineer</td>\n",
       "      <td>6.1</td>\n",
       "      <td>6</td>\n",
       "      <td>42</td>\n",
       "      <td>6</td>\n",
       "      <td>2</td>\n",
       "      <td>126</td>\n",
       "      <td>77</td>\n",
       "      <td>4200</td>\n",
       "      <td>0</td>\n",
       "    </tr>\n",
       "    <tr>\n",
       "      <th>1</th>\n",
       "      <td>2</td>\n",
       "      <td>Male</td>\n",
       "      <td>28</td>\n",
       "      <td>Doctor</td>\n",
       "      <td>6.2</td>\n",
       "      <td>6</td>\n",
       "      <td>60</td>\n",
       "      <td>8</td>\n",
       "      <td>0</td>\n",
       "      <td>125</td>\n",
       "      <td>75</td>\n",
       "      <td>10000</td>\n",
       "      <td>0</td>\n",
       "    </tr>\n",
       "    <tr>\n",
       "      <th>2</th>\n",
       "      <td>3</td>\n",
       "      <td>Male</td>\n",
       "      <td>28</td>\n",
       "      <td>Doctor</td>\n",
       "      <td>6.2</td>\n",
       "      <td>6</td>\n",
       "      <td>60</td>\n",
       "      <td>8</td>\n",
       "      <td>0</td>\n",
       "      <td>125</td>\n",
       "      <td>75</td>\n",
       "      <td>10000</td>\n",
       "      <td>0</td>\n",
       "    </tr>\n",
       "    <tr>\n",
       "      <th>3</th>\n",
       "      <td>4</td>\n",
       "      <td>Male</td>\n",
       "      <td>28</td>\n",
       "      <td>Sales Representative</td>\n",
       "      <td>5.9</td>\n",
       "      <td>4</td>\n",
       "      <td>30</td>\n",
       "      <td>8</td>\n",
       "      <td>1</td>\n",
       "      <td>140</td>\n",
       "      <td>85</td>\n",
       "      <td>3000</td>\n",
       "      <td>1</td>\n",
       "    </tr>\n",
       "    <tr>\n",
       "      <th>4</th>\n",
       "      <td>5</td>\n",
       "      <td>Male</td>\n",
       "      <td>28</td>\n",
       "      <td>Sales Representative</td>\n",
       "      <td>5.9</td>\n",
       "      <td>4</td>\n",
       "      <td>30</td>\n",
       "      <td>8</td>\n",
       "      <td>1</td>\n",
       "      <td>140</td>\n",
       "      <td>85</td>\n",
       "      <td>3000</td>\n",
       "      <td>1</td>\n",
       "    </tr>\n",
       "  </tbody>\n",
       "</table>\n",
       "</div>"
      ],
      "text/plain": [
       "   Person ID Gender  Age            Occupation  Sleep Duration  \\\n",
       "0          1   Male   27     Software Engineer             6.1   \n",
       "1          2   Male   28                Doctor             6.2   \n",
       "2          3   Male   28                Doctor             6.2   \n",
       "3          4   Male   28  Sales Representative             5.9   \n",
       "4          5   Male   28  Sales Representative             5.9   \n",
       "\n",
       "   Quality of Sleep  Physical Activity Level  Stress Level  BMI Category  \\\n",
       "0                 6                       42             6             2   \n",
       "1                 6                       60             8             0   \n",
       "2                 6                       60             8             0   \n",
       "3                 4                       30             8             1   \n",
       "4                 4                       30             8             1   \n",
       "\n",
       "  Blood Pressure  Heart Rate  Daily Steps  Sleep Disorder  \n",
       "0            126          77         4200               0  \n",
       "1            125          75        10000               0  \n",
       "2            125          75        10000               0  \n",
       "3            140          85         3000               1  \n",
       "4            140          85         3000               1  "
      ]
     },
     "execution_count": 69,
     "metadata": {},
     "output_type": "execute_result"
    }
   ],
   "source": [
    "# Replace 'Normal Weight' with 'Normal' in the 'BMI Category' column\n",
    "sleepData[\"BMI Category\"] = sleepData[\"BMI Category\"].replace(\"Normal Weight\", \"Normal\")\n",
    "# Extract the value before '/' symbol\n",
    "sleepData['Blood Pressure'] = sleepData['Blood Pressure'].str.split('/').str[0]\n",
    "\n",
    "\n",
    "# initiate Label Encoder\n",
    "label_encoder = LabelEncoder()\n",
    "sleepData[\"BMI Category\"] = label_encoder.fit_transform(sleepData[\"BMI Category\"])\n",
    "# Normal: 0, Normal Weight: 1, Obese: 2, Overweight: 3\n",
    "\n",
    "# Replace NaN with 0 and map 'Sleep Apnea' and 'Insomnia' to 1\n",
    "sleepData[\"Sleep Disorder\"] = sleepData[\"Sleep Disorder\"].fillna(0)\n",
    "sleepData[\"Sleep Disorder\"] = sleepData[\"Sleep Disorder\"].replace(['Sleep Apnea', 'Insomnia'], 1)\n",
    "# Convert column to integer type\n",
    "sleepData[\"Sleep Disorder\"] = sleepData[\"Sleep Disorder\"].astype(int)\n",
    "\n",
    "sleepData.head()"
   ]
  },
  {
   "cell_type": "code",
   "execution_count": 70,
   "metadata": {},
   "outputs": [],
   "source": [
    "sleepDuration = pd.DataFrame(sleepData[\"Sleep Duration\"])\n",
    "sleepQuality = pd.DataFrame(sleepData[\"Quality of Sleep\"])\n",
    "physicalActivity = pd.DataFrame(sleepData[\"Physical Activity Level\"])\n",
    "stressLevel = pd.DataFrame(sleepData[\"Stress Level\"])\n",
    "bmiCategory = pd.DataFrame(sleepData[\"BMI Category\"])\n",
    "bloodPressure = pd.DataFrame(sleepData[\"Blood Pressure\"])\n",
    "heartRate = pd.DataFrame(sleepData[\"Heart Rate\"])\n",
    "dailySteps = pd.DataFrame(sleepData[\"Daily Steps\"])\n",
    "sleepDisorder = pd.DataFrame(sleepData[\"Sleep Disorder\"])"
   ]
  },
  {
   "cell_type": "markdown",
   "metadata": {},
   "source": [
    "## Split dataset into training and test sets"
   ]
  },
  {
   "cell_type": "code",
   "execution_count": 71,
   "metadata": {},
   "outputs": [],
   "source": [
    "from sklearn.model_selection import train_test_split, cross_val_score\n",
    "\n",
    "# Combine variables into a single DataFrame\n",
    "X = pd.concat([sleepDuration, sleepQuality, physicalActivity, stressLevel, bmiCategory, \n",
    "               bloodPressure, heartRate, dailySteps], axis=1)\n",
    "y = sleepDisorder.values.ravel()  # Flatten sleepDisorder into a 1D array\n",
    "\n",
    "# Split the data into training and testing sets\n",
    "X_train, X_test, y_train, y_test = train_test_split(X, y, test_size=0.2, random_state=42)\n"
   ]
  },
  {
   "cell_type": "markdown",
   "metadata": {},
   "source": [
    "## Scale predictor variables"
   ]
  },
  {
   "cell_type": "code",
   "execution_count": 72,
   "metadata": {},
   "outputs": [],
   "source": [
    "from sklearn.preprocessing import StandardScaler\n",
    "\n",
    "scaler = StandardScaler()\n",
    "X_train_scaled = scaler.fit_transform(X_train)\n",
    "X_test_scaled = scaler.transform(X_test)"
   ]
  },
  {
   "cell_type": "markdown",
   "metadata": {},
   "source": [
    "# Use logistic Regression Model\n",
    "## Base case model (most simple)"
   ]
  },
  {
   "cell_type": "markdown",
   "metadata": {},
   "source": [
    "### We use recursive feature selection to select the most important features and then fit the logistic regression model with those features"
   ]
  },
  {
   "cell_type": "code",
   "execution_count": 73,
   "metadata": {},
   "outputs": [],
   "source": [
    "from sklearn.linear_model import LogisticRegression\n",
    "from sklearn.feature_selection import SelectKBest, f_classif\n",
    "\n",
    "def logisticRegression(X_train_scaled, X_test_scaled, y_train, noFeatures):\n",
    "    # Initialize SelectKBest with f_classif (ANOVA F-value between label/feature)\n",
    "    selector = SelectKBest(score_func=f_classif, k=noFeatures)\n",
    "\n",
    "    # Fit SelectKBest to training data and transform it\n",
    "    X_train_selected = selector.fit_transform(X_train_scaled, y_train)\n",
    "    X_test_selected = selector.transform(X_test_scaled)\n",
    "\n",
    "    # Get selected features indices\n",
    "    selected_features_indices = selector.get_support(indices=True)\n",
    "\n",
    "    # Get the names of selected features\n",
    "    selected_features = X_train.columns[selected_features_indices]\n",
    "\n",
    "    # Initialize logistic regression model\n",
    "    log_reg_model = LogisticRegression()\n",
    "\n",
    "    # Fit the logistic regression model to your training data with selected features\n",
    "    log_reg_model.fit(X_train_selected, y_train)\n",
    "\n",
    "    # Predict data\n",
    "    y_pred_log = log_reg_model.predict(X_test_selected)\n",
    "\n",
    "    return y_pred_log , list(selected_features)\n"
   ]
  },
  {
   "cell_type": "code",
   "execution_count": 74,
   "metadata": {},
   "outputs": [],
   "source": [
    "y_pred_Top6, top6Features = logisticRegression(X_train_scaled, X_test_scaled, y_train, 6) \n",
    "y_pred_Top5, top5Features = logisticRegression(X_train_scaled, X_test_scaled, y_train, 5) \n",
    "y_pred_Top4, top4Features = logisticRegression(X_train_scaled, X_test_scaled, y_train, 4) \n",
    "y_pred_Top3, top3Features = logisticRegression(X_train_scaled, X_test_scaled, y_train, 3) \n",
    "y_pred_Top2, top2Features = logisticRegression(X_train_scaled, X_test_scaled, y_train, 2) \n",
    "y_pred_Top1, top1Features = logisticRegression(X_train_scaled, X_test_scaled, y_train, 1) "
   ]
  },
  {
   "cell_type": "markdown",
   "metadata": {},
   "source": [
    "### Ranking all features feature selection"
   ]
  },
  {
   "cell_type": "code",
   "execution_count": 75,
   "metadata": {},
   "outputs": [
    {
     "name": "stdout",
     "output_type": "stream",
     "text": [
      "Ranking all Features: \n",
      "1: BMI Category\n",
      "2: Blood Pressure\n",
      "3: Sleep Duration\n",
      "4: Quality of Sleep\n",
      "5: Heart Rate\n",
      "6: Stress Level\n"
     ]
    }
   ],
   "source": [
    "rankedFeatures = []\n",
    "topFeatures = [top1Features, top2Features, top3Features, top4Features, top5Features, top6Features]\n",
    "for i in topFeatures:\n",
    "    for j in i:\n",
    "        if j not in rankedFeatures:\n",
    "            rankedFeatures.append(j)\n",
    "print(\"Ranking all Features: \")\n",
    "for i in range(len(rankedFeatures)):\n",
    "    print(f\"{i+1}: {rankedFeatures[i]}\")"
   ]
  },
  {
   "cell_type": "code",
   "execution_count": 76,
   "metadata": {},
   "outputs": [
    {
     "data": {
      "image/png": "[encoded data removed]",
      "text/plain": [
       "<Figure size 1500x1000 with 6 Axes>"
      ]
     },
     "metadata": {},
     "output_type": "display_data"
    }
   ],
   "source": [
    "from sklearn.metrics import confusion_matrix\n",
    "\n",
    "# Define the predictions and their titles\n",
    "predictions = [y_pred_Top6, y_pred_Top5, y_pred_Top4, y_pred_Top3, y_pred_Top2, y_pred_Top1]\n",
    "titles = ['Top 6 variables', 'Top 5 variables', 'Top 4 variables', 'Top 3 variables', 'Top 2 variables', 'Top 1 Variable']\n",
    "\n",
    "# Define the number of columns\n",
    "num_columns = 3\n",
    "\n",
    "# Calculate the number of rows needed\n",
    "num_rows = (len(predictions) + num_columns - 1) // num_columns\n",
    "\n",
    "# Create subplots with specified number of rows and columns\n",
    "fig, axes = plt.subplots(num_rows, num_columns, figsize=(15, 5 * num_rows))\n",
    "\n",
    "# Flatten the axes if it's a 1D array\n",
    "if num_rows == 1:\n",
    "    axes = [axes]\n",
    "\n",
    "# Calculate confusion matrix for each prediction\n",
    "for i, (y_pred, title) in enumerate(zip(predictions, titles)):\n",
    "    conf_matrix = confusion_matrix(y_test, y_pred)\n",
    "    row = i // num_columns\n",
    "    col = i % num_columns\n",
    "    sb.heatmap(conf_matrix, annot=True, fmt='d', cmap='Blues', cbar=False, ax=axes[row, col])\n",
    "    axes[row, col].set_title(title, )\n",
    "    axes[row, col].set_xlabel('Predicted')\n",
    "    axes[row, col].set_ylabel('Actual')\n",
    "\n",
    "# Hide empty subplots\n",
    "for i in range(len(predictions), num_rows * num_columns):\n",
    "    row = i // num_columns\n",
    "    col = i % num_columns\n",
    "    fig.delaxes(axes[row, col])\n",
    "\n",
    "# Adjust layout\n",
    "plt.tight_layout()\n",
    "plt.show()"
   ]
  },
  {
   "cell_type": "markdown",
   "metadata": {},
   "source": [
    "# Using Random Forest Model\n",
    "## Checking which features are more important\n",
    "Feature Importance: If you're using tree-based models like Random Forest, you can use the built-in feature importance attribute to identify the most important features. Features with higher feature importance scores are considered more relevant for predicting the target variable."
   ]
  },
  {
   "cell_type": "code",
   "execution_count": 77,
   "metadata": {},
   "outputs": [
    {
     "name": "stdout",
     "output_type": "stream",
     "text": [
      "                   Feature  Importance\n",
      "4             BMI Category    0.333001\n",
      "5           Blood Pressure    0.253339\n",
      "0           Sleep Duration    0.157497\n",
      "6               Heart Rate    0.060304\n",
      "1         Quality of Sleep    0.057170\n",
      "3             Stress Level    0.050046\n",
      "7              Daily Steps    0.046062\n",
      "2  Physical Activity Level    0.042582\n"
     ]
    },
    {
     "data": {
      "image/png": "[encoded data removed]",
      "text/plain": [
       "<Figure size 1000x600 with 1 Axes>"
      ]
     },
     "metadata": {},
     "output_type": "display_data"
    }
   ],
   "source": [
    "from sklearn.ensemble import RandomForestClassifier\n",
    "from sklearn.metrics import accuracy_score, classification_report\n",
    "\n",
    "# Initialize model\n",
    "random_forest = RandomForestClassifier()\n",
    "\n",
    "# Train the model\n",
    "random_forest.fit(X_train_scaled, y_train)\n",
    "\n",
    "# Get feature importances\n",
    "feature_importances = random_forest.feature_importances_\n",
    "\n",
    "# Create a DataFrame of feature importances\n",
    "feature_importance_df = pd.DataFrame({'Feature': X.columns, 'Importance': feature_importances})\n",
    "\n",
    "# Sort features by importance (descending order)\n",
    "feature_importance_df = feature_importance_df.sort_values(by='Importance', ascending=False)\n",
    "print(feature_importance_df)\n",
    "\n",
    "# Get feature names and importances from the DataFrame \n",
    "features = feature_importance_df['Feature'].to_numpy()\n",
    "importances = feature_importance_df['Importance'].to_numpy()\n",
    "\n",
    "\n",
    "# Create a bar chart with this data\n",
    "plt.figure(figsize=(10, 6))  # Adjust the figure size as desired\n",
    "plt.barh(features, importances, color='skyblue')  # Bar plot with horizontal bars\n",
    "plt.xlabel('Feature Importance')\n",
    "plt.ylabel('Feature')\n",
    "plt.title('Feature Importance Ranking (Random Forest)')\n",
    "plt.gca().invert_yaxis()  # Invert the y-axis to display the most important feature at the top\n",
    "\n",
    "# Display grid lines and labels\n",
    "plt.grid(axis='x', linestyle='--', alpha=0.6)\n",
    "plt.xticks(rotation=45)  # Rotate x-axis labels for better readability\n",
    "\n",
    "# Show the plot\n",
    "plt.tight_layout()\n",
    "plt.show()"
   ]
  },
  {
   "cell_type": "markdown",
   "metadata": {},
   "source": [
    "### From analysing the feature importance, it can be shown that Blood Pressure, BMI Category and Sleep Duration are the variables that affect the likelihood of having sleeping disorder the most."
   ]
  },
  {
   "cell_type": "markdown",
   "metadata": {},
   "source": [
    "## Use all Features for this Model"
   ]
  },
  {
   "cell_type": "code",
   "execution_count": 78,
   "metadata": {},
   "outputs": [
    {
     "name": "stdout",
     "output_type": "stream",
     "text": [
      "------------------------------------------- Using all features -------------------------------------------\n",
      "Random Forest Cross-Validation Scores: [0.91666667 0.86666667 0.98333333 0.94915254 0.94915254]\n",
      "\n",
      "Using all features\n",
      "Accuracy: 0.96\n",
      "Classification Report:\n",
      "               precision    recall  f1-score   support\n",
      "\n",
      "           0       0.95      0.98      0.96        41\n",
      "           1       0.97      0.94      0.96        34\n",
      "\n",
      "    accuracy                           0.96        75\n",
      "   macro avg       0.96      0.96      0.96        75\n",
      "weighted avg       0.96      0.96      0.96        75\n",
      "\n"
     ]
    }
   ],
   "source": [
    "# Evaluate the model that used all features using cross-validation\n",
    "random_forest_scores = cross_val_score(random_forest, X_train_scaled, y_train, cv=5)\n",
    "print(\"------------------------------------------- Using all features -------------------------------------------\")\n",
    "# Check model performance\n",
    "print(\"Random Forest Cross-Validation Scores:\", random_forest_scores)\n",
    "\n",
    "# Make predictions on the testing data\n",
    "y_pred = random_forest.predict(X_test_scaled)\n",
    "\n",
    "# Evaluate the models on the test data\n",
    "accuracy = accuracy_score(y_test, y_pred)\n",
    "report = classification_report(y_test, y_pred)\n",
    "\n",
    "print(\"\\nUsing all features\")\n",
    "print(\"Accuracy:\", accuracy)\n",
    "print(\"Classification Report:\\n\", report)"
   ]
  },
  {
   "cell_type": "code",
   "execution_count": 79,
   "metadata": {},
   "outputs": [],
   "source": [
    "# Function for random tree model\n",
    "\n",
    "def random_forest_train_evaluate(X_train_scaled, X_test_scaled, y_train, y_test):\n",
    "    # Initialize model\n",
    "    random_forest = RandomForestClassifier()\n",
    "\n",
    "    # Train the model\n",
    "    random_forest.fit(X_train_scaled, y_train)\n",
    "\n",
    "    # Evaluate the model that used all features using cross-validation\n",
    "    random_forest_scores = cross_val_score(random_forest, X_train_scaled, y_train, cv=5)\n",
    "\n",
    "    # Check model performance\n",
    "    print(\"Random Forest Cross-Validation Scores:\", random_forest_scores)\n",
    "\n",
    "    # Make predictions on the testing data\n",
    "    y_pred = random_forest.predict(X_test_scaled)\n",
    "\n",
    "    # Evaluate the models on the test data\n",
    "    accuracy = accuracy_score(y_test, y_pred)\n",
    "    report = classification_report(y_test, y_pred)\n",
    "\n",
    "    print(\"Accuracy:\", accuracy)\n",
    "    print(\"Classification Report:\\n\", report)\n",
    "\n",
    "    return y_pred\n"
   ]
  },
  {
   "cell_type": "markdown",
   "metadata": {},
   "source": [
    "## Using Sleep duration, physical health and quality of sleep to predict SleepDisorder\n"
   ]
  },
  {
   "cell_type": "code",
   "execution_count": 80,
   "metadata": {},
   "outputs": [
    {
     "name": "stdout",
     "output_type": "stream",
     "text": [
      "--------------------------- Using Sleep Duration, Physical Activity, Quality Of Sleep ---------------------------\n",
      "Random Forest Cross-Validation Scores: [0.95       0.86666667 0.96666667 0.91525424 0.93220339]\n",
      "Accuracy: 0.9333333333333333\n",
      "Classification Report:\n",
      "               precision    recall  f1-score   support\n",
      "\n",
      "           0       0.91      0.98      0.94        41\n",
      "           1       0.97      0.88      0.92        34\n",
      "\n",
      "    accuracy                           0.93        75\n",
      "   macro avg       0.94      0.93      0.93        75\n",
      "weighted avg       0.94      0.93      0.93        75\n",
      "\n"
     ]
    },
    {
     "data": {
      "text/plain": [
       "array([0, 0, 0, 0, 0, 1, 0, 0, 1, 0, 1, 0, 0, 0, 0, 1, 0, 1, 0, 0, 0, 0,\n",
       "       0, 1, 1, 0, 1, 1, 1, 1, 0, 0, 0, 1, 1, 0, 0, 0, 0, 0, 1, 1, 1, 1,\n",
       "       0, 0, 0, 0, 1, 0, 1, 0, 1, 0, 1, 1, 0, 1, 1, 0, 0, 1, 0, 0, 1, 0,\n",
       "       1, 0, 0, 0, 0, 1, 1, 1, 1])"
      ]
     },
     "execution_count": 80,
     "metadata": {},
     "output_type": "execute_result"
    }
   ],
   "source": [
    "# Filter X_train and X_test \n",
    "X_train_selectedBoomShakalaka = X_train[[\"Sleep Duration\",\"Physical Activity Level\",\"Quality of Sleep\"]]\n",
    "X_test_selectedBoomShakalaka = X_test[[\"Sleep Duration\",\"Physical Activity Level\",\"Quality of Sleep\"]]\n",
    "\n",
    "# # Scale the data\n",
    "X_train_selectedBoomShakalaka_scaled = scaler.fit_transform(X_train_selectedBoomShakalaka)\n",
    "X_test_selectedBoomShakalaka_scaled = scaler.transform(X_test_selectedBoomShakalaka)\n",
    "\n",
    "print(\"--------------------------- Using Sleep Duration, Physical Activity, Quality Of Sleep ---------------------------\")\n",
    "\n",
    "# Put data into function\n",
    "random_forest_train_evaluate(X_train_selectedBoomShakalaka_scaled, X_test_selectedBoomShakalaka_scaled, y_train, y_test)"
   ]
  },
  {
   "cell_type": "markdown",
   "metadata": {},
   "source": [
    "## Use top 2 most important Features for this model"
   ]
  },
  {
   "cell_type": "code",
   "execution_count": 81,
   "metadata": {},
   "outputs": [
    {
     "name": "stdout",
     "output_type": "stream",
     "text": [
      "--------------------------------------- Using Top 2 most important features ---------------------------------------\n",
      "Random Forest Cross-Validation Scores: [0.91666667 0.85       0.98333333 0.94915254 0.94915254]\n",
      "Accuracy: 0.9466666666666667\n",
      "Classification Report:\n",
      "               precision    recall  f1-score   support\n",
      "\n",
      "           0       0.93      0.98      0.95        41\n",
      "           1       0.97      0.91      0.94        34\n",
      "\n",
      "    accuracy                           0.95        75\n",
      "   macro avg       0.95      0.94      0.95        75\n",
      "weighted avg       0.95      0.95      0.95        75\n",
      "\n"
     ]
    },
    {
     "data": {
      "text/plain": [
       "array([0, 0, 0, 0, 0, 1, 0, 0, 1, 0, 1, 0, 0, 0, 0, 1, 0, 1, 0, 0, 0, 0,\n",
       "       0, 1, 1, 0, 1, 1, 1, 1, 0, 0, 0, 1, 1, 0, 0, 0, 0, 0, 1, 1, 0, 1,\n",
       "       0, 0, 0, 0, 1, 0, 1, 1, 1, 0, 1, 1, 1, 1, 1, 0, 0, 1, 0, 0, 1, 0,\n",
       "       1, 0, 0, 0, 0, 1, 1, 1, 1])"
      ]
     },
     "execution_count": 81,
     "metadata": {},
     "output_type": "execute_result"
    }
   ],
   "source": [
    "# Select the top 2 features\n",
    "top_2_features = feature_importance_df.head(2)['Feature'].tolist()\n",
    "# Filter X_train and X_test to include only the top N features\n",
    "X_train_selected2 = X_train[top_2_features]\n",
    "X_test_selected2 = X_test[top_2_features]\n",
    "\n",
    "# # Scale the data\n",
    "X_train_selected2_scaled = scaler.fit_transform(X_train_selected2)\n",
    "X_test_selected2_scaled = scaler.transform(X_test_selected2)\n",
    "\n",
    "print(\"--------------------------------------- Using Top 2 most important features ---------------------------------------\")\n",
    "\n",
    "# Put data into function\n",
    "random_forest_train_evaluate(X_train_selected2_scaled, X_test_selected2_scaled, y_train, y_test)"
   ]
  },
  {
   "cell_type": "markdown",
   "metadata": {},
   "source": [
    "## Use top 3 most important features for this Model"
   ]
  },
  {
   "cell_type": "code",
   "execution_count": 82,
   "metadata": {},
   "outputs": [
    {
     "name": "stdout",
     "output_type": "stream",
     "text": [
      "--------------------------------------- Using Top 3 most important features ---------------------------------------\n",
      "Random Forest Cross-Validation Scores: [0.91666667 0.85       0.98333333 0.94915254 0.94915254]\n",
      "Accuracy: 0.96\n",
      "Classification Report:\n",
      "               precision    recall  f1-score   support\n",
      "\n",
      "           0       0.95      0.98      0.96        41\n",
      "           1       0.97      0.94      0.96        34\n",
      "\n",
      "    accuracy                           0.96        75\n",
      "   macro avg       0.96      0.96      0.96        75\n",
      "weighted avg       0.96      0.96      0.96        75\n",
      "\n"
     ]
    }
   ],
   "source": [
    "# Select the top 3 features\n",
    "top_3_features = feature_importance_df.head(3)['Feature'].tolist()\n",
    "\n",
    "# Filter X_train and X_test to include only the top N features\n",
    "X_train_selected3 = X_train[top_3_features]\n",
    "X_test_selected3 = X_test[top_3_features]\n",
    "\n",
    "# # Scale the data\n",
    "X_train_selected3_scaled = scaler.fit_transform(X_train_selected3)\n",
    "X_test_selected3_scaled = scaler.transform(X_test_selected3)\n",
    "\n",
    "print(\"--------------------------------------- Using Top 3 most important features ---------------------------------------\")\n",
    "\n",
    "# Put data into function\n",
    "y_pred_selected3 = random_forest_train_evaluate(X_train_selected3_scaled, X_test_selected3_scaled, y_train, y_test)"
   ]
  },
  {
   "cell_type": "markdown",
   "metadata": {},
   "source": [
    "# We observe from the accuracy and classification report that the model using the top 3 best feature has better accuracy and scores than the model using the top 2 features. The model using the top 3 features also has the same accuracy value and scores as the model using all features, hence this model is the most optimal."
   ]
  },
  {
   "cell_type": "markdown",
   "metadata": {},
   "source": [
    "## Demonstrate the model's performance by assessing its ROC AUC (Receiver Operating Characteristic Area Under the Curve)."
   ]
  },
  {
   "cell_type": "code",
   "execution_count": 83,
   "metadata": {},
   "outputs": [
    {
     "name": "stdout",
     "output_type": "stream",
     "text": [
      "[0 0 0 0 0 1 0 0 1 0 1 0 0 0 0 1 0 1 0 0 0 0 0 1 1 0 1 1 1 1 0 0 0 1 1 0 0\n",
      " 0 0 0 0 1 1 1 0 0 0 0 1 0 1 1 1 1 1 1 1 1 1 0 0 1 0 0 1 0 1 0 0 0 1 1 1 1\n",
      " 1]\n",
      "[0 0 0 0 0 1 0 0 1 0 1 0 0 0 0 1 0 1 0 0 0 0 0 1 1 0 1 1 1 1 0 0 0 1 1 0 0\n",
      " 0 0 0 1 1 1 1 0 0 0 0 1 0 1 1 1 0 1 1 1 1 1 0 0 1 0 0 1 0 1 0 0 0 0 1 1 1\n",
      " 1]\n"
     ]
    },
    {
     "data": {
      "image/png": "[encoded data removed]",
      "text/plain": [
       "<Figure size 640x480 with 1 Axes>"
      ]
     },
     "metadata": {},
     "output_type": "display_data"
    }
   ],
   "source": [
    "from sklearn.metrics import roc_curve, auc\n",
    "\n",
    "# Compute ROC curve\n",
    "fpr, tpr, thresholds = roc_curve(y_test, y_pred_selected3)\n",
    "\n",
    "# Compute Area Under the ROC Curve (AUC)\n",
    "roc_auc = auc(fpr, tpr)\n",
    "\n",
    "# Plot ROC curve\n",
    "plt.figure()\n",
    "plt.plot(fpr, tpr, color='darkorange', lw=2, label='ROC curve (area = %0.2f)' % roc_auc)\n",
    "plt.plot([0, 1], [0, 1], color='navy', lw=2, linestyle='--')\n",
    "plt.xlim([0.0, 1.0])\n",
    "plt.ylim([0.0, 1.05])\n",
    "plt.xlabel('False Positive Rate')\n",
    "plt.ylabel('True Positive Rate')\n",
    "plt.title('Receiver Operating Characteristic (ROC) Curve')\n",
    "plt.legend(loc=\"lower right\")\n",
    "plt.show()\n",
    "\n",
    "## more right angle the top, better the model"
   ]
  },
  {
   "cell_type": "markdown",
   "metadata": {},
   "source": []
  },
  {
   "cell_type": "markdown",
   "metadata": {},
   "source": [
    "# Gradient Boosting"
   ]
  },
  {
   "cell_type": "code",
   "execution_count": 84,
   "metadata": {},
   "outputs": [
    {
     "name": "stdout",
     "output_type": "stream",
     "text": [
      "BMI Category: 0.8014806620046161\n",
      "Blood Pressure: 0.12196929306692914\n",
      "Sleep Duration: 0.023632156447212747\n",
      "Quality of Sleep: 0.020715640936678215\n",
      "Heart Rate: 0.016833690687332915\n",
      "Daily Steps: 0.014685109788435518\n",
      "Physical Activity Level: 0.0004981843790133457\n",
      "Stress Level: 0.0001852626897820893\n"
     ]
    },
    {
     "data": {
      "image/png": "[encoded data removed]",
      "text/plain": [
       "<Figure size 1000x600 with 1 Axes>"
      ]
     },
     "metadata": {},
     "output_type": "display_data"
    }
   ],
   "source": [
    "from sklearn.ensemble import GradientBoostingClassifier\n",
    "from sklearn.model_selection import train_test_split\n",
    "from sklearn.metrics import accuracy_score\n",
    "\n",
    "# Initialize Gradient Boosting Classifier\n",
    "gb_model = GradientBoostingClassifier()\n",
    "\n",
    "# Fit the model to your training data\n",
    "gb_model.fit(X_train_scaled, y_train)\n",
    "\n",
    "# Get feature importances\n",
    "feature_importances = gb_model.feature_importances_\n",
    "\n",
    "# Sort feature importances in descending order\n",
    "sorted_indices = feature_importances.argsort()[::-1]\n",
    "\n",
    "# Print feature names and their importances\n",
    "for idx in sorted_indices:\n",
    "    print(f\"{X_train.columns[idx]}: {feature_importances[idx]}\")\n",
    "\n",
    "# Create a DataFrame for feature importances\n",
    "feature_importance_df = pd.DataFrame({'Feature': X_train.columns, 'Importance': feature_importances})\n",
    "\n",
    "# Sort feature importances in descending order\n",
    "feature_importance_df = feature_importance_df.sort_values(by='Importance', ascending=False)\n",
    "\n",
    "# Plot feature importances\n",
    "plt.figure(figsize=(10, 6))\n",
    "sb.barplot(x='Importance', y='Feature', data=feature_importance_df)\n",
    "plt.xlabel('Importance')\n",
    "plt.ylabel('Feature')\n",
    "plt.title('Feature Importance')\n",
    "plt.show()"
   ]
  },
  {
   "cell_type": "markdown",
   "metadata": {},
   "source": [
    "## From gradient boosting, the most important feature by far is BMI Catergory"
   ]
  },
  {
   "cell_type": "code",
   "execution_count": 85,
   "metadata": {},
   "outputs": [],
   "source": [
    "def gradientBoosting(X_train_scaled, X_test_scaled, y_train, y_test):\n",
    "    # Assuming X_train, X_test, y_train, y_test are your train-test split data\n",
    "    # Initialize Gradient Boosting Classifier\n",
    "    gb_model = GradientBoostingClassifier()\n",
    "    \n",
    "    # Fit the model to your training data\n",
    "    gb_model.fit(X_train_scaled, y_train)\n",
    "    \n",
    "    # Make predictions on the test data\n",
    "    y_pred = gb_model.predict(X_test_scaled)\n",
    "    \n",
    "    # Evaluate the model's performance\n",
    "    accuracy = accuracy_score(y_test, y_pred)\n",
    "    report = classification_report(y_test, y_pred)\n",
    "    print(\"Accuracy:\", accuracy)\n",
    "    print(\"Classification report: \", report)"
   ]
  },
  {
   "cell_type": "code",
   "execution_count": 86,
   "metadata": {},
   "outputs": [
    {
     "name": "stdout",
     "output_type": "stream",
     "text": [
      "Gradient Boosting accuracy using top 2 features\n",
      "Accuracy: 0.9466666666666667\n",
      "Classification report:                precision    recall  f1-score   support\n",
      "\n",
      "           0       0.93      0.98      0.95        41\n",
      "           1       0.97      0.91      0.94        34\n",
      "\n",
      "    accuracy                           0.95        75\n",
      "   macro avg       0.95      0.94      0.95        75\n",
      "weighted avg       0.95      0.95      0.95        75\n",
      "\n",
      "\n",
      "Gradient Boosting accuracy using top 3 features\n",
      "Accuracy: 0.96\n",
      "Classification report:                precision    recall  f1-score   support\n",
      "\n",
      "           0       0.95      0.98      0.96        41\n",
      "           1       0.97      0.94      0.96        34\n",
      "\n",
      "    accuracy                           0.96        75\n",
      "   macro avg       0.96      0.96      0.96        75\n",
      "weighted avg       0.96      0.96      0.96        75\n",
      "\n"
     ]
    }
   ],
   "source": [
    "# Select the top 2 features\n",
    "top_2_features = feature_importance_df.head(2)['Feature'].tolist()\n",
    "# Select the top 3 features\n",
    "top_3_features = feature_importance_df.head(3)['Feature'].tolist()\n",
    "\n",
    "# Filter X_train and X_test to include only the top 2 features\n",
    "X_train_selected2 = X_train[top_2_features]\n",
    "X_test_selected2 = X_test[top_2_features]\n",
    "\n",
    "# Filter X_train and X_test to include only the top 3 features\n",
    "X_train_selected3 = X_train[top_3_features]\n",
    "X_test_selected3 = X_test[top_3_features]\n",
    "\n",
    "print(\"Gradient Boosting accuracy using top 2 features\")\n",
    "gradientBoosting(X_train_selected2, X_test_selected2, y_train, y_test)\n",
    "print(\"\\nGradient Boosting accuracy using top 3 features\")\n",
    "gradientBoosting(X_train_selected3, X_test_selected3, y_train, y_test)"
   ]
  },
  {
   "cell_type": "markdown",
   "metadata": {},
   "source": [
    "# Checking variables that affect stress level"
   ]
  },
  {
   "cell_type": "markdown",
   "metadata": {},
   "source": [
    "## Use linear regression and compare stress level to selected variables"
   ]
  },
  {
   "cell_type": "markdown",
   "metadata": {},
   "source": [
    "## Split the data into test and training sets"
   ]
  },
  {
   "cell_type": "code",
   "execution_count": 87,
   "metadata": {},
   "outputs": [],
   "source": [
    "# Combine variables into a single DataFrame\n",
    "X = pd.concat([sleepDuration, sleepQuality, physicalActivity, sleepDisorder, bmiCategory, \n",
    "               bloodPressure, heartRate, dailySteps], axis=1)\n",
    "\n",
    "y = stressLevel.values.ravel()  # Flatten sleepDisorder into a 1D array\n",
    "\n",
    "X_train, X_test, y_train, y_test = train_test_split(X, y, test_size=0.2, random_state=42)"
   ]
  },
  {
   "cell_type": "markdown",
   "metadata": {},
   "source": [
    "### Scale training and test sets"
   ]
  },
  {
   "cell_type": "code",
   "execution_count": 88,
   "metadata": {},
   "outputs": [],
   "source": [
    "scaler = StandardScaler()\n",
    "X_train_scaled = scaler.fit_transform(X_train)\n",
    "X_test_scaled = scaler.transform(X_test)"
   ]
  },
  {
   "cell_type": "markdown",
   "metadata": {},
   "source": [
    "## Logistic Regression on top features to predict Stress Level"
   ]
  },
  {
   "cell_type": "code",
   "execution_count": 89,
   "metadata": {},
   "outputs": [],
   "source": [
    "y_pred_Top6, top6Features = logisticRegression(X_train_scaled, X_test_scaled, y_train, 6) \n",
    "y_pred_Top5, top5Features = logisticRegression(X_train_scaled, X_test_scaled, y_train, 5) \n",
    "y_pred_Top4, top4Features = logisticRegression(X_train_scaled, X_test_scaled, y_train, 4) \n",
    "y_pred_Top3, top3Features = logisticRegression(X_train_scaled, X_test_scaled, y_train, 3) \n",
    "y_pred_Top2, top2Features = logisticRegression(X_train_scaled, X_test_scaled, y_train, 2) \n",
    "y_pred_Top1, top1Features = logisticRegression(X_train_scaled, X_test_scaled, y_train, 1) "
   ]
  },
  {
   "cell_type": "code",
   "execution_count": 90,
   "metadata": {},
   "outputs": [],
   "source": [
    "### Ranking all features feature selection"
   ]
  },
  {
   "cell_type": "code",
   "execution_count": 91,
   "metadata": {},
   "outputs": [
    {
     "name": "stdout",
     "output_type": "stream",
     "text": [
      "Ranking all Features: \n",
      "1: Quality of Sleep\n",
      "2: Sleep Duration\n",
      "3: Heart Rate\n",
      "4: Daily Steps\n",
      "5: Sleep Disorder\n",
      "6: BMI Category\n"
     ]
    }
   ],
   "source": [
    "rankedFeatures = []\n",
    "topFeatures = [top1Features, top2Features, top3Features, top4Features, top5Features, top6Features]\n",
    "for i in topFeatures:\n",
    "    for j in i:\n",
    "        if j not in rankedFeatures:\n",
    "            rankedFeatures.append(j)\n",
    "print(\"Ranking all Features: \")\n",
    "for i in range(len(rankedFeatures)):\n",
    "    print(f\"{i+1}: {rankedFeatures[i]}\")"
   ]
  },
  {
   "cell_type": "code",
   "execution_count": 92,
   "metadata": {},
   "outputs": [
    {
     "data": {
      "image/png": "[encoded data removed]",
      "text/plain": [
       "<Figure size 1500x1000 with 6 Axes>"
      ]
     },
     "metadata": {},
     "output_type": "display_data"
    }
   ],
   "source": [
    "# Define the predictions and their titles\n",
    "predictions = [y_pred_Top6, y_pred_Top5, y_pred_Top4, y_pred_Top3, y_pred_Top2, y_pred_Top1]\n",
    "titles = ['Top 6 variables', 'Top 5 variables', 'Top 4 variables', 'Top 3 variables', 'Top 2 variables', 'Top 1 Variable']\n",
    "\n",
    "# Define the number of columns\n",
    "num_columns = 3\n",
    "\n",
    "# Calculate the number of rows needed\n",
    "num_rows = (len(predictions) + num_columns - 1) // num_columns\n",
    "\n",
    "# Create subplots with specified number of rows and columns\n",
    "fig, axes = plt.subplots(num_rows, num_columns, figsize=(15, 5 * num_rows))\n",
    "\n",
    "# Flatten the axes if it's a 1D array\n",
    "if num_rows == 1:\n",
    "    axes = [axes]\n",
    "\n",
    "# Calculate confusion matrix for each prediction\n",
    "for i, (y_pred, title) in enumerate(zip(predictions, titles)):\n",
    "    conf_matrix = confusion_matrix(y_test, y_pred)\n",
    "    row = i // num_columns\n",
    "    col = i % num_columns\n",
    "    sb.heatmap(conf_matrix, annot=True, fmt='d', cmap='Blues', cbar=False, ax=axes[row, col])\n",
    "    axes[row, col].set_title(title, )\n",
    "    axes[row, col].set_xlabel('Predicted')\n",
    "    axes[row, col].set_ylabel('Actual')\n",
    "\n",
    "# Hide empty subplots\n",
    "for i in range(len(predictions), num_rows * num_columns):\n",
    "    row = i // num_columns\n",
    "    col = i % num_columns\n",
    "    fig.delaxes(axes[row, col])\n",
    "\n",
    "# Adjust layout\n",
    "plt.tight_layout()\n",
    "plt.show()"
   ]
  },
  {
   "cell_type": "markdown",
   "metadata": {},
   "source": [
    "# Using Random Forest Model\n",
    "\n",
    "## Checking Features Importance"
   ]
  },
  {
   "cell_type": "code",
   "execution_count": 93,
   "metadata": {},
   "outputs": [
    {
     "name": "stdout",
     "output_type": "stream",
     "text": [
      "                   Feature  Importance\n",
      "0           Sleep Duration    0.219718\n",
      "1         Quality of Sleep    0.186228\n",
      "5           Blood Pressure    0.142608\n",
      "6               Heart Rate    0.142585\n",
      "7              Daily Steps    0.135984\n",
      "2  Physical Activity Level    0.133791\n",
      "4             BMI Category    0.020318\n",
      "3           Sleep Disorder    0.018769\n"
     ]
    },
    {
     "data": {
      "image/png": "[encoded data removed]",
      "text/plain": [
       "<Figure size 1000x600 with 1 Axes>"
      ]
     },
     "metadata": {},
     "output_type": "display_data"
    }
   ],
   "source": [
    "# Initialize model\n",
    "random_forest = RandomForestClassifier()\n",
    "\n",
    "# Train the model\n",
    "random_forest.fit(X_train_scaled, y_train)\n",
    "\n",
    "# Get feature importances\n",
    "feature_importances = random_forest.feature_importances_\n",
    "\n",
    "# Create a DataFrame of feature importances\n",
    "feature_importance_df = pd.DataFrame({'Feature': X.columns, 'Importance': feature_importances})\n",
    "\n",
    "# Sort features by importance (descending order)\n",
    "feature_importance_df = feature_importance_df.sort_values(by='Importance', ascending=False)\n",
    "print(feature_importance_df)\n",
    "\n",
    "# Get feature names and importances from the DataFrame \n",
    "features = feature_importance_df['Feature'].to_numpy()\n",
    "importances = feature_importance_df['Importance'].to_numpy()\n",
    "\n",
    "\n",
    "# Create a bar chart with this data\n",
    "plt.figure(figsize=(10, 6))  # Adjust the figure size as desired\n",
    "plt.barh(features, importances, color='skyblue')  # Bar plot with horizontal bars\n",
    "plt.xlabel('Feature Importance')\n",
    "plt.ylabel('Feature')\n",
    "plt.title('Feature Importance Ranking (Random Forest)')\n",
    "plt.gca().invert_yaxis()  # Invert the y-axis to display the most important feature at the top\n",
    "\n",
    "# Display grid lines and labels\n",
    "plt.grid(axis='x', linestyle='--', alpha=0.6)\n",
    "plt.xticks(rotation=45)  # Rotate x-axis labels for better readability\n",
    "\n",
    "# Show the plot\n",
    "plt.tight_layout()\n",
    "plt.show()"
   ]
  },
  {
   "cell_type": "markdown",
   "metadata": {},
   "source": [
    "## Using all Features for this Model"
   ]
  },
  {
   "cell_type": "code",
   "execution_count": 94,
   "metadata": {},
   "outputs": [
    {
     "name": "stdout",
     "output_type": "stream",
     "text": [
      "------------------------------------------- Using all features -------------------------------------------\n",
      "Random Forest Cross-Validation Scores: [0.95       0.91666667 0.98333333 0.94915254 0.98305085]\n",
      "\n",
      "Using all features\n",
      "Accuracy: 1.0\n",
      "Classification Report:\n",
      "               precision    recall  f1-score   support\n",
      "\n",
      "           3       1.00      1.00      1.00        10\n",
      "           4       1.00      1.00      1.00        10\n",
      "           5       1.00      1.00      1.00        14\n",
      "           6       1.00      1.00      1.00        10\n",
      "           7       1.00      1.00      1.00        13\n",
      "           8       1.00      1.00      1.00        18\n",
      "\n",
      "    accuracy                           1.00        75\n",
      "   macro avg       1.00      1.00      1.00        75\n",
      "weighted avg       1.00      1.00      1.00        75\n",
      "\n"
     ]
    }
   ],
   "source": [
    "# Evaluate the model that used all features using cross-validation\n",
    "random_forest_scores = cross_val_score(random_forest, X_train_scaled, y_train, cv=5)\n",
    "print(\"------------------------------------------- Using all features -------------------------------------------\")\n",
    "# Check model performance\n",
    "print(\"Random Forest Cross-Validation Scores:\", random_forest_scores)\n",
    "\n",
    "# Make predictions on the testing data\n",
    "y_pred = random_forest.predict(X_test_scaled)\n",
    "\n",
    "# Evaluate the models on the test data\n",
    "accuracy = accuracy_score(y_test, y_pred)\n",
    "report = classification_report(y_test, y_pred)\n",
    "\n",
    "print(\"\\nUsing all features\")\n",
    "print(\"Accuracy:\", accuracy)\n",
    "print(\"Classification Report:\\n\", report)"
   ]
  },
  {
   "cell_type": "markdown",
   "metadata": {},
   "source": [
    "## Using Sleep duration, physical health and quality of sleep to predict Stress Level\n"
   ]
  },
  {
   "cell_type": "code",
   "execution_count": 95,
   "metadata": {},
   "outputs": [
    {
     "name": "stdout",
     "output_type": "stream",
     "text": [
      "--------------------------- Using Sleep Duration, Physical Activity, Quality Of Sleep ---------------------------\n",
      "Random Forest Cross-Validation Scores: [0.88333333 0.9        0.88333333 0.86440678 0.84745763]\n",
      "Accuracy: 0.9066666666666666\n",
      "Classification Report:\n",
      "               precision    recall  f1-score   support\n",
      "\n",
      "           3       1.00      1.00      1.00        10\n",
      "           4       0.60      0.90      0.72        10\n",
      "           5       0.91      0.71      0.80        14\n",
      "           6       1.00      1.00      1.00        10\n",
      "           7       1.00      0.85      0.92        13\n",
      "           8       1.00      1.00      1.00        18\n",
      "\n",
      "    accuracy                           0.91        75\n",
      "   macro avg       0.92      0.91      0.91        75\n",
      "weighted avg       0.93      0.91      0.91        75\n",
      "\n"
     ]
    },
    {
     "data": {
      "text/plain": [
       "array([3, 8, 8, 3, 8, 7, 8, 4, 8, 5, 7, 6, 4, 8, 4, 8, 6, 7, 3, 4, 6, 5,\n",
       "       8, 4, 4, 4, 7, 7, 7, 3, 6, 4, 6, 3, 8, 4, 8, 6, 4, 5, 7, 8, 7, 7,\n",
       "       5, 4, 5, 6, 8, 6, 3, 5, 8, 5, 6, 3, 5, 8, 3, 8, 5, 4, 8, 6, 4, 8,\n",
       "       7, 3, 5, 5, 4, 7, 4, 8, 3])"
      ]
     },
     "execution_count": 95,
     "metadata": {},
     "output_type": "execute_result"
    }
   ],
   "source": [
    "# Filter X_train and X_test \n",
    "X_train_selectedBoomShakalaka = X_train[[\"Sleep Duration\",\"Physical Activity Level\",\"Quality of Sleep\"]]\n",
    "X_test_selectedBoomShakalaka = X_test[[\"Sleep Duration\",\"Physical Activity Level\",\"Quality of Sleep\"]]\n",
    "\n",
    "# # Scale the data\n",
    "X_train_selectedBoomShakalaka_scaled = scaler.fit_transform(X_train_selectedBoomShakalaka)\n",
    "X_test_selectedBoomShakalaka_scaled = scaler.transform(X_test_selectedBoomShakalaka)\n",
    "\n",
    "print(\"--------------------------- Using Sleep Duration, Physical Activity, Quality Of Sleep ---------------------------\")\n",
    "\n",
    "# Put data into function\n",
    "random_forest_train_evaluate(X_train_selectedBoomShakalaka_scaled, X_test_selectedBoomShakalaka_scaled, y_train, y_test)"
   ]
  },
  {
   "cell_type": "markdown",
   "metadata": {},
   "source": [
    "## Use top 2 most important Features for this model"
   ]
  },
  {
   "cell_type": "code",
   "execution_count": 96,
   "metadata": {},
   "outputs": [
    {
     "name": "stdout",
     "output_type": "stream",
     "text": [
      "--------------------------------------- Using Top 2 most important features ---------------------------------------\n",
      "Random Forest Cross-Validation Scores: [0.85       0.88333333 0.86666667 0.84745763 0.83050847]\n",
      "Accuracy: 0.8533333333333334\n",
      "Classification Report:\n",
      "               precision    recall  f1-score   support\n",
      "\n",
      "           3       1.00      1.00      1.00        10\n",
      "           4       0.53      0.80      0.64        10\n",
      "           5       0.82      0.64      0.72        14\n",
      "           6       1.00      0.80      0.89        10\n",
      "           7       0.92      0.85      0.88        13\n",
      "           8       0.95      1.00      0.97        18\n",
      "\n",
      "    accuracy                           0.85        75\n",
      "   macro avg       0.87      0.85      0.85        75\n",
      "weighted avg       0.88      0.85      0.86        75\n",
      "\n"
     ]
    },
    {
     "data": {
      "text/plain": [
       "array([3, 8, 8, 3, 8, 7, 8, 4, 8, 5, 7, 6, 4, 8, 4, 8, 8, 7, 3, 4, 6, 5,\n",
       "       8, 4, 4, 4, 7, 7, 7, 3, 6, 5, 6, 3, 8, 4, 8, 6, 4, 5, 7, 8, 7, 7,\n",
       "       5, 4, 5, 6, 8, 6, 3, 5, 8, 5, 7, 3, 5, 8, 3, 8, 5, 4, 8, 6, 4, 8,\n",
       "       7, 3, 5, 4, 4, 7, 4, 8, 3])"
      ]
     },
     "execution_count": 96,
     "metadata": {},
     "output_type": "execute_result"
    }
   ],
   "source": [
    "# Select the top 2 features\n",
    "top_2_features = feature_importance_df.head(2)['Feature'].tolist()\n",
    "# Filter X_train and X_test to include only the top N features\n",
    "X_train_selected2 = X_train[top_2_features]\n",
    "X_test_selected2 = X_test[top_2_features]\n",
    "\n",
    "# # Scale the data\n",
    "X_train_selected2_scaled = scaler.fit_transform(X_train_selected2)\n",
    "X_test_selected2_scaled = scaler.transform(X_test_selected2)\n",
    "\n",
    "print(\"--------------------------------------- Using Top 2 most important features ---------------------------------------\")\n",
    "\n",
    "# Put data into function\n",
    "random_forest_train_evaluate(X_train_selected2_scaled, X_test_selected2_scaled, y_train, y_test)"
   ]
  },
  {
   "cell_type": "markdown",
   "metadata": {},
   "source": [
    "## Using top 3 most important Features for this Model"
   ]
  },
  {
   "cell_type": "code",
   "execution_count": 97,
   "metadata": {},
   "outputs": [
    {
     "name": "stdout",
     "output_type": "stream",
     "text": [
      "--------------------------------------- Using Top 3 most important features ---------------------------------------\n",
      "Random Forest Cross-Validation Scores: [0.93333333 0.9        0.93333333 0.94915254 0.93220339]\n",
      "Accuracy: 1.0\n",
      "Classification Report:\n",
      "               precision    recall  f1-score   support\n",
      "\n",
      "           3       1.00      1.00      1.00        10\n",
      "           4       1.00      1.00      1.00        10\n",
      "           5       1.00      1.00      1.00        14\n",
      "           6       1.00      1.00      1.00        10\n",
      "           7       1.00      1.00      1.00        13\n",
      "           8       1.00      1.00      1.00        18\n",
      "\n",
      "    accuracy                           1.00        75\n",
      "   macro avg       1.00      1.00      1.00        75\n",
      "weighted avg       1.00      1.00      1.00        75\n",
      "\n"
     ]
    }
   ],
   "source": [
    "# Select the top 3 features\n",
    "top_3_features = feature_importance_df.head(3)['Feature'].tolist()\n",
    "\n",
    "# Filter X_train and X_test to include only the top N features\n",
    "X_train_selected3 = X_train[top_3_features]\n",
    "X_test_selected3 = X_test[top_3_features]\n",
    "\n",
    "# # Scale the data\n",
    "X_train_selected3_scaled = scaler.fit_transform(X_train_selected3)\n",
    "X_test_selected3_scaled = scaler.transform(X_test_selected3)\n",
    "\n",
    "print(\"--------------------------------------- Using Top 3 most important features ---------------------------------------\")\n",
    "\n",
    "# Put data into function\n",
    "y_pred_selected3 = random_forest_train_evaluate(X_train_selected3_scaled, X_test_selected3_scaled, y_train, y_test)"
   ]
  },
  {
   "cell_type": "markdown",
   "metadata": {},
   "source": [
    "## Demonstrate the model's performance by assessing its ROC AUC (Receiver Operating Characteristic Area Under the Curve)."
   ]
  },
  {
   "cell_type": "code",
   "execution_count": 98,
   "metadata": {},
   "outputs": [
    {
     "name": "stdout",
     "output_type": "stream",
     "text": [
      "[3 8 8 3 8 7 8 4 8 5 7 6 5 8 5 8 6 7 3 4 6 5 8 4 4 5 7 7 7 3 6 4 6 3 8 4 8\n",
      " 6 5 5 7 8 7 7 5 4 4 6 8 6 3 5 8 5 6 3 5 8 3 8 5 7 8 6 4 8 7 3 5 5 4 7 7 8\n",
      " 3]\n",
      "[3 8 8 3 8 7 8 4 8 5 7 6 5 8 5 8 6 7 3 4 6 5 8 4 4 5 7 7 7 3 6 4 6 3 8 4 8\n",
      " 6 5 5 7 8 7 7 5 4 4 6 8 6 3 5 8 5 6 3 5 8 3 8 5 7 8 6 4 8 7 3 5 5 4 7 7 8\n",
      " 3]\n"
     ]
    },
    {
     "ename": "ValueError",
     "evalue": "multiclass format is not supported",
     "output_type": "error",
     "traceback": [
      "\u001b[0;31m---------------------------------------------------------------------------\u001b[0m",
      "\u001b[0;31mValueError\u001b[0m                                Traceback (most recent call last)",
      "Cell \u001b[0;32mIn[98], line 4\u001b[0m\n\u001b[1;32m      2\u001b[0m \u001b[38;5;28mprint\u001b[39m(y_test)\n\u001b[1;32m      3\u001b[0m \u001b[38;5;28mprint\u001b[39m(y_pred_selected3)\n\u001b[0;32m----> 4\u001b[0m fpr, tpr, thresholds \u001b[38;5;241m=\u001b[39m \u001b[43mroc_curve\u001b[49m\u001b[43m(\u001b[49m\u001b[43my_test\u001b[49m\u001b[43m,\u001b[49m\u001b[43m \u001b[49m\u001b[43my_pred_selected3\u001b[49m\u001b[43m)\u001b[49m\n\u001b[1;32m      6\u001b[0m \u001b[38;5;66;03m# Compute Area Under the ROC Curve (AUC)\u001b[39;00m\n\u001b[1;32m      7\u001b[0m roc_auc \u001b[38;5;241m=\u001b[39m auc(fpr, tpr)\n",
      "File \u001b[0;32m/Library/Frameworks/Python.framework/Versions/3.11/lib/python3.11/site-packages/sklearn/utils/_param_validation.py:213\u001b[0m, in \u001b[0;36mvalidate_params.<locals>.decorator.<locals>.wrapper\u001b[0;34m(*args, **kwargs)\u001b[0m\n\u001b[1;32m    207\u001b[0m \u001b[38;5;28;01mtry\u001b[39;00m:\n\u001b[1;32m    208\u001b[0m     \u001b[38;5;28;01mwith\u001b[39;00m config_context(\n\u001b[1;32m    209\u001b[0m         skip_parameter_validation\u001b[38;5;241m=\u001b[39m(\n\u001b[1;32m    210\u001b[0m             prefer_skip_nested_validation \u001b[38;5;129;01mor\u001b[39;00m global_skip_validation\n\u001b[1;32m    211\u001b[0m         )\n\u001b[1;32m    212\u001b[0m     ):\n\u001b[0;32m--> 213\u001b[0m         \u001b[38;5;28;01mreturn\u001b[39;00m \u001b[43mfunc\u001b[49m\u001b[43m(\u001b[49m\u001b[38;5;241;43m*\u001b[39;49m\u001b[43margs\u001b[49m\u001b[43m,\u001b[49m\u001b[43m \u001b[49m\u001b[38;5;241;43m*\u001b[39;49m\u001b[38;5;241;43m*\u001b[39;49m\u001b[43mkwargs\u001b[49m\u001b[43m)\u001b[49m\n\u001b[1;32m    214\u001b[0m \u001b[38;5;28;01mexcept\u001b[39;00m InvalidParameterError \u001b[38;5;28;01mas\u001b[39;00m e:\n\u001b[1;32m    215\u001b[0m     \u001b[38;5;66;03m# When the function is just a wrapper around an estimator, we allow\u001b[39;00m\n\u001b[1;32m    216\u001b[0m     \u001b[38;5;66;03m# the function to delegate validation to the estimator, but we replace\u001b[39;00m\n\u001b[1;32m    217\u001b[0m     \u001b[38;5;66;03m# the name of the estimator by the name of the function in the error\u001b[39;00m\n\u001b[1;32m    218\u001b[0m     \u001b[38;5;66;03m# message to avoid confusion.\u001b[39;00m\n\u001b[1;32m    219\u001b[0m     msg \u001b[38;5;241m=\u001b[39m re\u001b[38;5;241m.\u001b[39msub(\n\u001b[1;32m    220\u001b[0m         \u001b[38;5;124mr\u001b[39m\u001b[38;5;124m\"\u001b[39m\u001b[38;5;124mparameter of \u001b[39m\u001b[38;5;124m\\\u001b[39m\u001b[38;5;124mw+ must be\u001b[39m\u001b[38;5;124m\"\u001b[39m,\n\u001b[1;32m    221\u001b[0m         \u001b[38;5;124mf\u001b[39m\u001b[38;5;124m\"\u001b[39m\u001b[38;5;124mparameter of \u001b[39m\u001b[38;5;132;01m{\u001b[39;00mfunc\u001b[38;5;241m.\u001b[39m\u001b[38;5;18m__qualname__\u001b[39m\u001b[38;5;132;01m}\u001b[39;00m\u001b[38;5;124m must be\u001b[39m\u001b[38;5;124m\"\u001b[39m,\n\u001b[1;32m    222\u001b[0m         \u001b[38;5;28mstr\u001b[39m(e),\n\u001b[1;32m    223\u001b[0m     )\n",
      "File \u001b[0;32m/Library/Frameworks/Python.framework/Versions/3.11/lib/python3.11/site-packages/sklearn/metrics/_ranking.py:1108\u001b[0m, in \u001b[0;36mroc_curve\u001b[0;34m(y_true, y_score, pos_label, sample_weight, drop_intermediate)\u001b[0m\n\u001b[1;32m   1006\u001b[0m \u001b[38;5;129m@validate_params\u001b[39m(\n\u001b[1;32m   1007\u001b[0m     {\n\u001b[1;32m   1008\u001b[0m         \u001b[38;5;124m\"\u001b[39m\u001b[38;5;124my_true\u001b[39m\u001b[38;5;124m\"\u001b[39m: [\u001b[38;5;124m\"\u001b[39m\u001b[38;5;124marray-like\u001b[39m\u001b[38;5;124m\"\u001b[39m],\n\u001b[0;32m   (...)\u001b[0m\n\u001b[1;32m   1017\u001b[0m     y_true, y_score, \u001b[38;5;241m*\u001b[39m, pos_label\u001b[38;5;241m=\u001b[39m\u001b[38;5;28;01mNone\u001b[39;00m, sample_weight\u001b[38;5;241m=\u001b[39m\u001b[38;5;28;01mNone\u001b[39;00m, drop_intermediate\u001b[38;5;241m=\u001b[39m\u001b[38;5;28;01mTrue\u001b[39;00m\n\u001b[1;32m   1018\u001b[0m ):\n\u001b[1;32m   1019\u001b[0m \u001b[38;5;250m    \u001b[39m\u001b[38;5;124;03m\"\"\"Compute Receiver operating characteristic (ROC).\u001b[39;00m\n\u001b[1;32m   1020\u001b[0m \n\u001b[1;32m   1021\u001b[0m \u001b[38;5;124;03m    Note: this implementation is restricted to the binary classification task.\u001b[39;00m\n\u001b[0;32m   (...)\u001b[0m\n\u001b[1;32m   1106\u001b[0m \u001b[38;5;124;03m    array([ inf, 0.8 , 0.4 , 0.35, 0.1 ])\u001b[39;00m\n\u001b[1;32m   1107\u001b[0m \u001b[38;5;124;03m    \"\"\"\u001b[39;00m\n\u001b[0;32m-> 1108\u001b[0m     fps, tps, thresholds \u001b[38;5;241m=\u001b[39m \u001b[43m_binary_clf_curve\u001b[49m\u001b[43m(\u001b[49m\n\u001b[1;32m   1109\u001b[0m \u001b[43m        \u001b[49m\u001b[43my_true\u001b[49m\u001b[43m,\u001b[49m\u001b[43m \u001b[49m\u001b[43my_score\u001b[49m\u001b[43m,\u001b[49m\u001b[43m \u001b[49m\u001b[43mpos_label\u001b[49m\u001b[38;5;241;43m=\u001b[39;49m\u001b[43mpos_label\u001b[49m\u001b[43m,\u001b[49m\u001b[43m \u001b[49m\u001b[43msample_weight\u001b[49m\u001b[38;5;241;43m=\u001b[39;49m\u001b[43msample_weight\u001b[49m\n\u001b[1;32m   1110\u001b[0m \u001b[43m    \u001b[49m\u001b[43m)\u001b[49m\n\u001b[1;32m   1112\u001b[0m     \u001b[38;5;66;03m# Attempt to drop thresholds corresponding to points in between and\u001b[39;00m\n\u001b[1;32m   1113\u001b[0m     \u001b[38;5;66;03m# collinear with other points. These are always suboptimal and do not\u001b[39;00m\n\u001b[1;32m   1114\u001b[0m     \u001b[38;5;66;03m# appear on a plotted ROC curve (and thus do not affect the AUC).\u001b[39;00m\n\u001b[0;32m   (...)\u001b[0m\n\u001b[1;32m   1119\u001b[0m     \u001b[38;5;66;03m# but does not drop more complicated cases like fps = [1, 3, 7],\u001b[39;00m\n\u001b[1;32m   1120\u001b[0m     \u001b[38;5;66;03m# tps = [1, 2, 4]; there is no harm in keeping too many thresholds.\u001b[39;00m\n\u001b[1;32m   1121\u001b[0m     \u001b[38;5;28;01mif\u001b[39;00m drop_intermediate \u001b[38;5;129;01mand\u001b[39;00m \u001b[38;5;28mlen\u001b[39m(fps) \u001b[38;5;241m>\u001b[39m \u001b[38;5;241m2\u001b[39m:\n",
      "File \u001b[0;32m/Library/Frameworks/Python.framework/Versions/3.11/lib/python3.11/site-packages/sklearn/metrics/_ranking.py:817\u001b[0m, in \u001b[0;36m_binary_clf_curve\u001b[0;34m(y_true, y_score, pos_label, sample_weight)\u001b[0m\n\u001b[1;32m    815\u001b[0m y_type \u001b[38;5;241m=\u001b[39m type_of_target(y_true, input_name\u001b[38;5;241m=\u001b[39m\u001b[38;5;124m\"\u001b[39m\u001b[38;5;124my_true\u001b[39m\u001b[38;5;124m\"\u001b[39m)\n\u001b[1;32m    816\u001b[0m \u001b[38;5;28;01mif\u001b[39;00m \u001b[38;5;129;01mnot\u001b[39;00m (y_type \u001b[38;5;241m==\u001b[39m \u001b[38;5;124m\"\u001b[39m\u001b[38;5;124mbinary\u001b[39m\u001b[38;5;124m\"\u001b[39m \u001b[38;5;129;01mor\u001b[39;00m (y_type \u001b[38;5;241m==\u001b[39m \u001b[38;5;124m\"\u001b[39m\u001b[38;5;124mmulticlass\u001b[39m\u001b[38;5;124m\"\u001b[39m \u001b[38;5;129;01mand\u001b[39;00m pos_label \u001b[38;5;129;01mis\u001b[39;00m \u001b[38;5;129;01mnot\u001b[39;00m \u001b[38;5;28;01mNone\u001b[39;00m)):\n\u001b[0;32m--> 817\u001b[0m     \u001b[38;5;28;01mraise\u001b[39;00m \u001b[38;5;167;01mValueError\u001b[39;00m(\u001b[38;5;124m\"\u001b[39m\u001b[38;5;132;01m{0}\u001b[39;00m\u001b[38;5;124m format is not supported\u001b[39m\u001b[38;5;124m\"\u001b[39m\u001b[38;5;241m.\u001b[39mformat(y_type))\n\u001b[1;32m    819\u001b[0m check_consistent_length(y_true, y_score, sample_weight)\n\u001b[1;32m    820\u001b[0m y_true \u001b[38;5;241m=\u001b[39m column_or_1d(y_true)\n",
      "\u001b[0;31mValueError\u001b[0m: multiclass format is not supported"
     ]
    }
   ],
   "source": [
    "# Compute ROC curve\n",
    "print(y_test)\n",
    "print(y_pred_selected3)\n",
    "fpr, tpr, thresholds = roc_curve(y_test, y_pred_selected3)\n",
    "\n",
    "# Compute Area Under the ROC Curve (AUC)\n",
    "roc_auc = auc(fpr, tpr)\n",
    "\n",
    "# Plot ROC curve\n",
    "plt.figure()\n",
    "plt.plot(fpr, tpr, color='darkorange', lw=2, label='ROC curve (area = %0.2f)' % roc_auc)\n",
    "plt.plot([0, 1], [0, 1], color='navy', lw=2, linestyle='--')\n",
    "plt.xlim([0.0, 1.0])\n",
    "plt.ylim([0.0, 1.05])\n",
    "plt.xlabel('False Positive Rate')\n",
    "plt.ylabel('True Positive Rate')\n",
    "plt.title('Receiver Operating Characteristic (ROC) Curve')\n",
    "plt.legend(loc=\"lower right\")\n",
    "plt.show()\n",
    "\n",
    "## more right angle the top, better the model"
   ]
  },
  {
   "cell_type": "markdown",
   "metadata": {},
   "source": [
    "# Gradient Boosting"
   ]
  },
  {
   "cell_type": "code",
   "execution_count": null,
   "metadata": {},
   "outputs": [],
   "source": [
    "# Initialize Gradient Boosting Classifier\n",
    "gb_model = GradientBoostingClassifier()\n",
    "\n",
    "# Fit the model to your training data\n",
    "gb_model.fit(X_train_scaled, y_train)\n",
    "\n",
    "# Get feature importances\n",
    "feature_importances = gb_model.feature_importances_\n",
    "\n",
    "# Sort feature importances in descending order\n",
    "sorted_indices = feature_importances.argsort()[::-1]\n",
    "\n",
    "# Print feature names and their importances\n",
    "for idx in sorted_indices:\n",
    "    print(f\"{X_train.columns[idx]}: {feature_importances[idx]}\")\n",
    "\n",
    "# Create a DataFrame for feature importances\n",
    "feature_importance_df = pd.DataFrame({'Feature': X_train.columns, 'Importance': feature_importances})\n",
    "\n",
    "# Sort feature importances in descending order\n",
    "feature_importance_df = feature_importance_df.sort_values(by='Importance', ascending=False)\n",
    "\n",
    "# Plot feature importances\n",
    "plt.figure(figsize=(10, 6))\n",
    "sb.barplot(x='Importance', y='Feature', data=feature_importance_df)\n",
    "plt.xlabel('Importance')\n",
    "plt.ylabel('Feature')\n",
    "plt.title('Feature Importance')\n",
    "plt.show()"
   ]
  },
  {
   "cell_type": "markdown",
   "metadata": {},
   "source": [
    "### From Gradient Boosting"
   ]
  },
  {
   "cell_type": "code",
   "execution_count": null,
   "metadata": {},
   "outputs": [],
   "source": [
    "def gradientBoosting(X_train_scaled, X_test_scaled, y_train, y_test):\n",
    "    # Assuming X_train, X_test, y_train, y_test are your train-test split data\n",
    "    # Initialize Gradient Boosting Classifier\n",
    "    gb_model = GradientBoostingClassifier()\n",
    "    \n",
    "    # Fit the model to your training data\n",
    "    gb_model.fit(X_train_scaled, y_train)\n",
    "    \n",
    "    # Make predictions on the test data\n",
    "    y_pred = gb_model.predict(X_test_scaled)\n",
    "    \n",
    "    # Evaluate the model's performance\n",
    "    accuracy = accuracy_score(y_test, y_pred)\n",
    "    report = classification_report(y_test, y_pred)\n",
    "    print(\"Accuracy:\", accuracy)\n",
    "    print(\"Classification report: \", report)"
   ]
  },
  {
   "cell_type": "code",
   "execution_count": null,
   "metadata": {},
   "outputs": [],
   "source": [
    "# Select the top 2 features\n",
    "top_2_features = feature_importance_df.head(2)['Feature'].tolist()\n",
    "# Select the top 3 features\n",
    "top_3_features = feature_importance_df.head(3)['Feature'].tolist()\n",
    "\n",
    "# Filter X_train and X_test to include only the top 2 features\n",
    "X_train_selected2 = X_train[top_2_features]\n",
    "X_test_selected2 = X_test[top_2_features]\n",
    "\n",
    "# Filter X_train and X_test to include only the top 3 features\n",
    "X_train_selected3 = X_train[top_3_features]\n",
    "X_test_selected3 = X_test[top_3_features]\n",
    "\n",
    "print(\"Gradient Boosting accuracy using top 2 features\")\n",
    "gradientBoosting(X_train_selected2, X_test_selected2, y_train, y_test)\n",
    "print(\"\\nGradient Boosting accuracy using top 3 features\")\n",
    "gradientBoosting(X_train_selected3, X_test_selected3, y_train, y_test)"
   ]
  },
  {
   "cell_type": "markdown",
   "metadata": {},
   "source": [
    "### Function for linear regression returning predictions"
   ]
  },
  {
   "cell_type": "code",
   "execution_count": null,
   "metadata": {},
   "outputs": [],
   "source": [
    "from sklearn.linear_model import LinearRegression\n",
    "from sklearn.metrics import mean_squared_error, r2_score\n",
    "\n",
    "def LinearRegress(X_train, X_test, y_train): \n",
    "    # Fit the linear regression model on the training data\n",
    "    linear_reg_model = LinearRegression()\n",
    "    linear_reg_model.fit(X_train, y_train)\n",
    "    \n",
    "    # Make predictions on the training and testing data\n",
    "    y_train_pred = linear_reg_model.predict(X_train)\n",
    "    y_test_pred = linear_reg_model.predict(X_test)\n",
    "    return [y_train_pred, y_test_pred]"
   ]
  },
  {
   "cell_type": "code",
   "execution_count": null,
   "metadata": {},
   "outputs": [],
   "source": [
    "from sklearn.metrics import mean_squared_error\n",
    "from sklearn.metrics import r2_score\n",
    "\n",
    "# Assuming X_train_scaled, X_test_scaled, y_train, y_test are already defined\n",
    "\n",
    "# Initialize the list of independent variables (IVs)\n",
    "IVs = ['Sleep Duration', 'Quality of Sleep', 'Physical Activity Level', 'Sleep Disorder', \n",
    "       'BMI Category', 'Blood Pressure', 'Heart Rate', 'Daily Steps']\n",
    "\n",
    "def return_mean_y(y_test, X_test_iv_scaled):\n",
    "    unique_X_test = np.unique(X_test_iv_scaled)\n",
    "    mean_y_test = []\n",
    "    for val in unique_X_test:\n",
    "        indices = np.where(X_test_iv_scaled == val)[0]\n",
    "        mean_pred = np.mean(y_test[indices])\n",
    "        mean_y_test.append(mean_pred)\n",
    "    return unique_X_test, np.array(mean_y_test)\n",
    "\n",
    "\n",
    "\n",
    "# Initialize lists to store RMSE values for each IV\n",
    "rmse_test = []\n",
    "\n",
    "# Initialize lists to store R^2 values for each model\n",
    "r_square_values = []\n",
    "\n",
    "# Initialize dictionary to store predictions for each IV\n",
    "y_test_dict = {}\n",
    "\n",
    "# Calculate number of rows needed\n",
    "num_IVs = len(IVs)\n",
    "num_cols = 2  # Maximum of 2 graphs per row\n",
    "num_rows = (num_IVs + num_cols - 1) // num_cols\n",
    "\n",
    "# Loop through each independent variable\n",
    "for i, iv in enumerate(IVs):\n",
    "    # Select the current IV from the DataFrame\n",
    "    X_train_iv = X_train[[iv]]\n",
    "    X_test_iv = X_test[[iv]]\n",
    "    \n",
    "    # Scale the train and test sets\n",
    "    scaler = StandardScaler()\n",
    "    X_train_iv_scaled = scaler.fit_transform(X_train_iv)\n",
    "    X_test_iv_scaled = scaler.transform(X_test_iv)\n",
    "    \n",
    "    # Initialize and fit the linear regression model\n",
    "    results = LinearRegress(X_train_iv_scaled, X_test_iv_scaled, y_train)\n",
    "    \n",
    "    # Make predictions on the testing data\n",
    "    y_test_pred = results[1]\n",
    "    \n",
    "    # Calculate mean predicted value for each unique X_test value\n",
    "    unique_X_test, mean_y_test = return_mean_y(y_test, X_test_iv_scaled)\n",
    "\n",
    "    # Store mean predicted values for current IV\n",
    "    y_test_dict[iv] = mean_y_test\n",
    "    \n",
    "    # Calculate RMSE for testing set\n",
    "    rmse_test.append(np.sqrt(mean_squared_error(y_test, y_test_pred)))\n",
    "\n",
    "    # Calculate R^2 value\n",
    "    r_squared = r2_score(y_test, y_test_pred)\n",
    "    r_square_values.append(r_squared)\n",
    "    \n",
    "    # Create subplot\n",
    "    if i % num_cols == 0:\n",
    "        fig, axs = plt.subplots(1, num_cols, figsize=(12, 5))\n",
    "    \n",
    "    # Plot actual values\n",
    "    axs[i % num_cols].plot(unique_X_test, mean_y_test, label='Actual', color='green')\n",
    "    \n",
    "    # Plot mean predicted values\n",
    "    axs[i % num_cols].plot(X_test_iv_scaled, y_test_pred, label=f'Predicted ({iv})', color='blue')\n",
    "\n",
    "    axs[i % num_cols].set_xlabel(f'{iv} (scaled)')\n",
    "    axs[i % num_cols].set_ylabel('Stress Level')\n",
    "    axs[i % num_cols].set_title(f'Actual vs Predicted for Stress Level (DV) using {iv} (IV)')\n",
    "    axs[i % num_cols].legend()\n",
    "    axs[i % num_cols].grid(True)\n",
    "    \n",
    "    # Show plot if it's the last subplot or the last IV\n",
    "    if (i % num_cols == num_cols - 1) or (i == num_IVs - 1):\n",
    "        plt.tight_layout()\n",
    "        plt.show()"
   ]
  },
  {
   "cell_type": "code",
   "execution_count": null,
   "metadata": {},
   "outputs": [],
   "source": [
    "# Display RMSE, R-squared, and Adjusted R-squared\n",
    "for i, iv in enumerate(IVs):\n",
    "    print(f'Model for Stress Level (DV) vs {iv} (IV)')\n",
    "    print(\"============================================================\")\n",
    "    print(f\"RMSE: {rmse_test[i]:.3f}\")\n",
    "    print(f\"R^2: {r_square_values[i]:.3f}\")\n",
    "    \n",
    "    # Calculate adjusted R^2\n",
    "    n = len(y_test)\n",
    "    p = X_train[[iv]].shape[1]  # Number of predictors\n",
    "    adj_r_squared = 1 - ((1 - r_square_values[i]) * (n - 1) / (n - p - 1))\n",
    "    print(f\"Adjusted R^2: {adj_r_squared:.3f}\")\n",
    "    \n",
    "    print(\"\\n============================================================\\n\")\n"
   ]
  },
  {
   "cell_type": "markdown",
   "metadata": {},
   "source": [
    "## Function for OLS regression model"
   ]
  },
  {
   "cell_type": "code",
   "execution_count": null,
   "metadata": {},
   "outputs": [],
   "source": [
    "import statsmodels.api as sm\n",
    "\n",
    "# Function for Linear regression using statsmodel.api.OLS\n",
    "def OLSregression(X_train, X_test, y_train, y_test):\n",
    "    # Selected features\n",
    "    selectedIVs = X_train.columns.tolist()\n",
    "    print(selectedIVs)\n",
    "    \n",
    "    # Scale Data\n",
    "    scaler = StandardScaler()\n",
    "    X_train_scaled = scaler.fit_transform(X_train)\n",
    "    X_test_scaled = scaler.transform(X_test)\n",
    "    \n",
    "    # We use statsmodel.api.OLS as it provies detailed summary statistics including coefficient estimate, standard erros, etc\n",
    "    X_train_const = sm.add_constant(X_train_scaled)\n",
    "    model = sm.OLS(y_train, X_train_const)\n",
    "    results = model.fit()\n",
    "    \n",
    "    # Print summary of regression results\n",
    "    print(results.summary())\n",
    "\n",
    "    # Assess model performance\n",
    "    print(\"Correlation Coefficient:\", np.sqrt(results.rsquared))\n",
    "    print(\"R-squared\\t:\", results.rsquared)\n",
    "    print(\"Adjusted R-squared:\", results.rsquared_adj)\n",
    "    print(\"F-statistic\\t:\", results.fvalue)\n",
    "    print(\"\\n========================== p-values for coefficients ==========================\\n\")\n",
    "    # print(results.pvalues)\n",
    "    for i in range(len(selectedIVs)):\n",
    "        print(f\"{selectedIVs[i]} \\t: {results.pvalues[i]}\")\n",
    "\n",
    "    # Make predictions on test set\n",
    "    X_test_const = sm.add_constant(X_test_scaled)\n",
    "    y_pred = results.predict(X_test_const)\n",
    "\n",
    "    # Compare predicted data with y_test data\n",
    "    comparison_df = pd.DataFrame({'Actual': y_test, 'Predicted': y_pred})\n",
    "    \n",
    "   # Calculate the differences between actual and predicted values\n",
    "    differences = y_test - y_pred\n",
    "    \n",
    "    # Plot the differences\n",
    "    plt.figure(figsize=(10, 6))\n",
    "    plt.plot(differences, color='green', linestyle='-', marker='o')\n",
    "    plt.axhline(y=0, color='black', linestyle='--')  # Add horizontal line at y=0 for reference\n",
    "    plt.xlabel('Index')\n",
    "    plt.ylabel('Difference')\n",
    "    plt.title('Differences between Actual and Predicted Values')\n",
    "    plt.grid(True)\n",
    "    plt.show()\n",
    "\n",
    "\n",
    "    \n",
    "    # Assess model performance\n",
    "    rmse = np.sqrt(mean_squared_error(y_test, y_pred))\n",
    "    print(\"Root Mean Squared Error (RMSE):\", rmse)"
   ]
  },
  {
   "cell_type": "markdown",
   "metadata": {},
   "source": [
    "### Check for the accuracy of model using all variables"
   ]
  },
  {
   "cell_type": "code",
   "execution_count": null,
   "metadata": {},
   "outputs": [],
   "source": [
    "OLSregression(X_train, X_test, y_train, y_test)"
   ]
  },
  {
   "cell_type": "markdown",
   "metadata": {},
   "source": [
    "## Fit the model using variables with p-values < 0.01 which are\n",
    "## Sleep Duration, Physical Activity Level, Sleep Disorder, Blood Pressure, Heart Rate, and Daily Steps "
   ]
  },
  {
   "cell_type": "code",
   "execution_count": null,
   "metadata": {},
   "outputs": [],
   "source": [
    "selectedFeatures = ['Sleep Duration','Physical Activity Level', 'Sleep Disorder', 'Blood Pressure', 'Heart Rate', 'Daily Steps']\n",
    "X_train_selectedFeatures = X_train[selectedFeatures]\n",
    "X_test_selectedFeatures = X_test[selectedFeatures]\n",
    "OLSregression(X_train_selectedFeatures, X_test_selectedFeatures, y_train, y_test)"
   ]
  },
  {
   "cell_type": "code",
   "execution_count": null,
   "metadata": {},
   "outputs": [],
   "source": [
    "# Initial plotting\n",
    "fig, axes = plt.subplots(2, 3, figsize=(18, 12))\n",
    "\n",
    "# Plotting graphs related to sleep\n",
    "sb.boxplot(data=sleepData, y=\"Sleep Duration\", x=\"Sleep Disorder\", ax=axes[0, 0], color=\"blue\")\n",
    "axes[0, 0].set_title(\"Sleep Duration vs. Sleep Disorder\")\n",
    "\n",
    "sb.boxplot(data=sleepData, y=\"Physical Activity Level\", x=\"Sleep Disorder\", ax=axes[0, 1], color=\"green\")\n",
    "axes[0, 1].set_title(\"Physical Activity Level vs. Sleep Disorder\")\n",
    "\n",
    "sb.boxplot(data=sleepData, y=\"Quality of Sleep\", x=\"Sleep Disorder\", ax=axes[0, 2], color=\"red\")\n",
    "axes[0, 2].set_title(\"Quality of Sleep vs. Sleep Disorder\")\n",
    "\n",
    "# Plotting graphs related to stress\n",
    "sb.boxplot(data=sleepData, y=\"Sleep Duration\", x=\"Stress Level\", ax=axes[1, 0], color=\"purple\")\n",
    "axes[1, 0].set_title(\"Sleep Duration vs. Stress Level\")\n",
    "\n",
    "sb.boxplot(data=sleepData, y=\"Physical Activity Level\", x=\"Stress Level\", ax=axes[1, 1], color=\"orange\")\n",
    "axes[1, 1].set_title(\"Physical Activity Level vs. Stress Level\")\n",
    "\n",
    "sb.boxplot(data=sleepData, y=\"Quality of Sleep\", x=\"Stress Level\", ax=axes[1, 2], color=\"brown\")\n",
    "axes[1, 2].set_title(\"Quality of Sleep vs. Stress Level\")\n",
    "\n",
    "plt.tight_layout()\n",
    "plt.show()\n",
    "\n",
    "# Initial plotting\n",
    "fig, axes = plt.subplots(2, 3, figsize=(18, 12))\n",
    "\n",
    "# Plotting graphs related to sleep\n",
    "sb.violinplot(data=sleepData, y=\"Sleep Duration\", x=\"Sleep Disorder\", ax=axes[0, 0], color=\"blue\")\n",
    "axes[0, 0].set_title(\"Sleep Duration vs. Sleep Disorder\")\n",
    "\n",
    "sb.violinplot(data=sleepData, y=\"Physical Activity Level\", x=\"Sleep Disorder\", ax=axes[0, 1], color=\"green\")\n",
    "axes[0, 1].set_title(\"Physical Activity Level vs. Sleep Disorder\")\n",
    "\n",
    "sb.violinplot(data=sleepData, y=\"Quality of Sleep\", x=\"Sleep Disorder\", ax=axes[0, 2], color=\"red\")\n",
    "axes[0, 2].set_title(\"Quality of Sleep vs. Sleep Disorder\")\n",
    "\n",
    "# Plotting graphs related to stress\n",
    "sb.violinplot(data=sleepData, y=\"Sleep Duration\", x=\"Stress Level\", ax=axes[1, 0], color=\"purple\")\n",
    "axes[1, 0].set_title(\"Sleep Duration vs. Stress Level\")\n",
    "\n",
    "sb.violinplot(data=sleepData, y=\"Physical Activity Level\", x=\"Stress Level\", ax=axes[1, 1], color=\"orange\")\n",
    "axes[1, 1].set_title(\"Physical Activity Level vs. Stress Level\")\n",
    "\n",
    "sb.violinplot(data=sleepData, y=\"Quality of Sleep\", x=\"Stress Level\", ax=axes[1, 2], color=\"brown\")\n",
    "axes[1, 2].set_title(\"Quality of Sleep vs. Stress Level\")\n",
    "\n",
    "\n",
    "plt.tight_layout()\n",
    "plt.show()\n"
   ]
  },
  {
   "cell_type": "code",
   "execution_count": null,
   "metadata": {},
   "outputs": [],
   "source": [
    "# Function to remove outliers using IQR\n",
    "def remove_outliers(df, column):\n",
    "    Q1 = df[column].quantile(0.25)\n",
    "    Q3 = df[column].quantile(0.75)\n",
    "    IQR = Q3 - Q1\n",
    "    lower_bound = Q1 - 1.5 * IQR\n",
    "    upper_bound = Q3 + 1.5 * IQR\n",
    "    return df[(df[column] >= lower_bound) & (df[column] <= upper_bound)]\n",
    "\n",
    "# Removing outliers for each column\n",
    "clean_data = remove_outliers(sleepData, \"Sleep Duration\")\n",
    "clean_data = remove_outliers(clean_data, \"Quality of Sleep\")\n",
    "clean_data = remove_outliers(clean_data, \"Physical Activity Level\")\n",
    "clean_data = remove_outliers(clean_data, \"Stress Level\")\n",
    "\n",
    "# Recreating the plots without outliers\n",
    "fig, axes = plt.subplots(2, 3, figsize=(18, 12))\n",
    "\n",
    "# Plotting the graphs related to sleep without outliers\n",
    "sb.boxplot(data=clean_data, y=\"Sleep Duration\", x=\"Sleep Disorder\", ax=axes[0, 0], color=\"blue\")\n",
    "axes[0, 0].set_title(\"Sleep Duration vs. Sleep Disorder\")\n",
    "\n",
    "sb.boxplot(data=clean_data, y=\"Physical Activity Level\", x=\"Sleep Disorder\", ax=axes[0, 1], color=\"green\")\n",
    "axes[0, 1].set_title(\"Physical Activity Level vs. Sleep Disorder\")\n",
    "\n",
    "sb.boxplot(data=clean_data, y=\"Quality of Sleep\", x=\"Sleep Disorder\", ax=axes[0, 2], color=\"red\")\n",
    "axes[0, 2].set_title(\"Quality of Sleep vs. Sleep Disorder\")\n",
    "\n",
    "# Plotting graphs related to stress\n",
    "sb.boxplot(data=clean_data, y=\"Sleep Duration\", x=\"Stress Level\", ax=axes[1, 0], color=\"purple\")\n",
    "axes[1, 0].set_title(\"Sleep Duration vs. Stress Level\")\n",
    "\n",
    "sb.boxplot(data=clean_data, y=\"Physical Activity Level\", x=\"Stress Level\", ax=axes[1, 1], color=\"orange\")\n",
    "axes[1, 1].set_title(\"Physical Activity Level vs. Stress Level\")\n",
    "\n",
    "sb.boxplot(data=clean_data, y=\"Quality of Sleep\", x=\"Stress Level\", ax=axes[1, 2], color=\"brown\")\n",
    "axes[1, 2].set_title(\"Quality of Sleep vs. Stress Level\")\n",
    "\n",
    "plt.tight_layout()\n",
    "plt.show()\n",
    "\n",
    "fig, axes = plt.subplots(2, 3, figsize=(18, 12))\n",
    "\n",
    "# Plotting the graphs related to sleep without outliers\n",
    "sb.violinplot(data=clean_data, y=\"Sleep Duration\", x=\"Sleep Disorder\", ax=axes[0, 0], color=\"blue\")\n",
    "axes[0, 0].set_title(\"Sleep Duration vs. Sleep Disorder\")\n",
    "\n",
    "sb.violinplot(data=clean_data, y=\"Physical Activity Level\", x=\"Sleep Disorder\", ax=axes[0, 1], color=\"green\")\n",
    "axes[0, 1].set_title(\"Physical Activity Level vs. Sleep Disorder\")\n",
    "\n",
    "sb.violinplot(data=clean_data, y=\"Quality of Sleep\", x=\"Sleep Disorder\", ax=axes[0, 2], color=\"red\")\n",
    "axes[0, 2].set_title(\"Quality of Sleep vs. Sleep Disorder\")\n",
    "\n",
    "# Plotting graphs related to stress\n",
    "sb.violinplot(data=clean_data, y=\"Sleep Duration\", x=\"Stress Level\", ax=axes[1, 0], color=\"purple\")\n",
    "axes[1, 0].set_title(\"Sleep Duration vs. Stress Level\")\n",
    "\n",
    "sb.violinplot(data=clean_data, y=\"Physical Activity Level\", x=\"Stress Level\", ax=axes[1, 1], color=\"orange\")\n",
    "axes[1, 1].set_title(\"Physical Activity Level vs. Stress Level\")\n",
    "\n",
    "sb.violinplot(data=clean_data, y=\"Quality of Sleep\", x=\"Stress Level\", ax=axes[1, 2], color=\"brown\")\n",
    "axes[1, 2].set_title(\"Quality of Sleep vs. Stress Level\")\n",
    "\n",
    "plt.tight_layout()\n",
    "plt.show()"
   ]
  },
  {
   "cell_type": "code",
   "execution_count": null,
   "metadata": {},
   "outputs": [],
   "source": []
  }
 ],
 "metadata": {
  "kernelspec": {
   "display_name": "Python 3 (ipykernel)",
   "language": "python",
   "name": "python3"
  },
  "language_info": {
   "codemirror_mode": {
    "name": "ipython",
    "version": 3
   },
   "file_extension": ".py",
   "mimetype": "text/x-python",
   "name": "python",
   "nbconvert_exporter": "python",
   "pygments_lexer": "ipython3",
   "version": "3.11.4"
  }
 },
 "nbformat": 4,
 "nbformat_minor": 4
}
